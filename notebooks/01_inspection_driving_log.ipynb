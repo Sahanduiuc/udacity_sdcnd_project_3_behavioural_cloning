{
 "cells": [
  {
   "cell_type": "code",
   "execution_count": 1,
   "metadata": {
    "collapsed": true,
    "deletable": true,
    "editable": true
   },
   "outputs": [],
   "source": [
    "%matplotlib inline\n",
    "\n",
    "import matplotlib.pyplot as plt\n",
    "import pandas as pd\n",
    "\n",
    "from sklearn.preprocessing import normalize"
   ]
  },
  {
   "cell_type": "markdown",
   "metadata": {
    "deletable": true,
    "editable": true
   },
   "source": [
    "# Sample data"
   ]
  },
  {
   "cell_type": "code",
   "execution_count": 2,
   "metadata": {
    "collapsed": false,
    "deletable": true,
    "editable": true
   },
   "outputs": [],
   "source": [
    "df1 = pd.read_csv('../data/raw/sample/driving_log.csv')"
   ]
  },
  {
   "cell_type": "code",
   "execution_count": 3,
   "metadata": {
    "collapsed": false,
    "deletable": true,
    "editable": true
   },
   "outputs": [],
   "source": [
    "columns = df1.columns"
   ]
  },
  {
   "cell_type": "code",
   "execution_count": 4,
   "metadata": {
    "collapsed": false,
    "deletable": true,
    "editable": true
   },
   "outputs": [
    {
     "data": {
      "text/plain": [
       "8036"
      ]
     },
     "execution_count": 4,
     "metadata": {},
     "output_type": "execute_result"
    }
   ],
   "source": [
    "df1_count = len(df1)\n",
    "df1_count"
   ]
  },
  {
   "cell_type": "code",
   "execution_count": 5,
   "metadata": {
    "collapsed": false,
    "deletable": true,
    "editable": true
   },
   "outputs": [
    {
     "name": "stdout",
     "output_type": "stream",
     "text": [
      "<class 'pandas.core.frame.DataFrame'>\n",
      "RangeIndex: 8036 entries, 0 to 8035\n",
      "Data columns (total 7 columns):\n",
      "center      8036 non-null object\n",
      "left        8036 non-null object\n",
      "right       8036 non-null object\n",
      "steering    8036 non-null float64\n",
      "throttle    8036 non-null float64\n",
      "brake       8036 non-null float64\n",
      "speed       8036 non-null float64\n",
      "dtypes: float64(4), object(3)\n",
      "memory usage: 439.5+ KB\n"
     ]
    }
   ],
   "source": [
    "df1.info()"
   ]
  },
  {
   "cell_type": "code",
   "execution_count": 6,
   "metadata": {
    "collapsed": false,
    "deletable": true,
    "editable": true
   },
   "outputs": [
    {
     "data": {
      "text/html": [
       "<div>\n",
       "<table border=\"1\" class=\"dataframe\">\n",
       "  <thead>\n",
       "    <tr style=\"text-align: right;\">\n",
       "      <th></th>\n",
       "      <th>center</th>\n",
       "      <th>left</th>\n",
       "      <th>right</th>\n",
       "      <th>steering</th>\n",
       "      <th>throttle</th>\n",
       "      <th>brake</th>\n",
       "      <th>speed</th>\n",
       "    </tr>\n",
       "  </thead>\n",
       "  <tbody>\n",
       "    <tr>\n",
       "      <th>0</th>\n",
       "      <td>IMG/center_2016_12_01_13_30_48_287.jpg</td>\n",
       "      <td>IMG/left_2016_12_01_13_30_48_287.jpg</td>\n",
       "      <td>IMG/right_2016_12_01_13_30_48_287.jpg</td>\n",
       "      <td>0.0</td>\n",
       "      <td>0.0</td>\n",
       "      <td>0.0</td>\n",
       "      <td>22.148290</td>\n",
       "    </tr>\n",
       "    <tr>\n",
       "      <th>1</th>\n",
       "      <td>IMG/center_2016_12_01_13_30_48_404.jpg</td>\n",
       "      <td>IMG/left_2016_12_01_13_30_48_404.jpg</td>\n",
       "      <td>IMG/right_2016_12_01_13_30_48_404.jpg</td>\n",
       "      <td>0.0</td>\n",
       "      <td>0.0</td>\n",
       "      <td>0.0</td>\n",
       "      <td>21.879630</td>\n",
       "    </tr>\n",
       "    <tr>\n",
       "      <th>2</th>\n",
       "      <td>IMG/center_2016_12_01_13_31_12_937.jpg</td>\n",
       "      <td>IMG/left_2016_12_01_13_31_12_937.jpg</td>\n",
       "      <td>IMG/right_2016_12_01_13_31_12_937.jpg</td>\n",
       "      <td>0.0</td>\n",
       "      <td>0.0</td>\n",
       "      <td>0.0</td>\n",
       "      <td>1.453011</td>\n",
       "    </tr>\n",
       "    <tr>\n",
       "      <th>3</th>\n",
       "      <td>IMG/center_2016_12_01_13_31_13_037.jpg</td>\n",
       "      <td>IMG/left_2016_12_01_13_31_13_037.jpg</td>\n",
       "      <td>IMG/right_2016_12_01_13_31_13_037.jpg</td>\n",
       "      <td>0.0</td>\n",
       "      <td>0.0</td>\n",
       "      <td>0.0</td>\n",
       "      <td>1.438419</td>\n",
       "    </tr>\n",
       "    <tr>\n",
       "      <th>4</th>\n",
       "      <td>IMG/center_2016_12_01_13_31_13_177.jpg</td>\n",
       "      <td>IMG/left_2016_12_01_13_31_13_177.jpg</td>\n",
       "      <td>IMG/right_2016_12_01_13_31_13_177.jpg</td>\n",
       "      <td>0.0</td>\n",
       "      <td>0.0</td>\n",
       "      <td>0.0</td>\n",
       "      <td>1.418236</td>\n",
       "    </tr>\n",
       "  </tbody>\n",
       "</table>\n",
       "</div>"
      ],
      "text/plain": [
       "                                   center  \\\n",
       "0  IMG/center_2016_12_01_13_30_48_287.jpg   \n",
       "1  IMG/center_2016_12_01_13_30_48_404.jpg   \n",
       "2  IMG/center_2016_12_01_13_31_12_937.jpg   \n",
       "3  IMG/center_2016_12_01_13_31_13_037.jpg   \n",
       "4  IMG/center_2016_12_01_13_31_13_177.jpg   \n",
       "\n",
       "                                    left  \\\n",
       "0   IMG/left_2016_12_01_13_30_48_287.jpg   \n",
       "1   IMG/left_2016_12_01_13_30_48_404.jpg   \n",
       "2   IMG/left_2016_12_01_13_31_12_937.jpg   \n",
       "3   IMG/left_2016_12_01_13_31_13_037.jpg   \n",
       "4   IMG/left_2016_12_01_13_31_13_177.jpg   \n",
       "\n",
       "                                    right  steering  throttle  brake  \\\n",
       "0   IMG/right_2016_12_01_13_30_48_287.jpg       0.0       0.0    0.0   \n",
       "1   IMG/right_2016_12_01_13_30_48_404.jpg       0.0       0.0    0.0   \n",
       "2   IMG/right_2016_12_01_13_31_12_937.jpg       0.0       0.0    0.0   \n",
       "3   IMG/right_2016_12_01_13_31_13_037.jpg       0.0       0.0    0.0   \n",
       "4   IMG/right_2016_12_01_13_31_13_177.jpg       0.0       0.0    0.0   \n",
       "\n",
       "       speed  \n",
       "0  22.148290  \n",
       "1  21.879630  \n",
       "2   1.453011  \n",
       "3   1.438419  \n",
       "4   1.418236  "
      ]
     },
     "execution_count": 6,
     "metadata": {},
     "output_type": "execute_result"
    }
   ],
   "source": [
    "df1.head()"
   ]
  },
  {
   "cell_type": "code",
   "execution_count": 7,
   "metadata": {
    "collapsed": false,
    "deletable": true,
    "editable": true
   },
   "outputs": [
    {
     "name": "stdout",
     "output_type": "stream",
     "text": [
      "Index(['steering', 'throttle', 'brake', 'speed'], dtype='object')\n"
     ]
    },
    {
     "data": {
      "text/html": [
       "<div>\n",
       "<table border=\"1\" class=\"dataframe\">\n",
       "  <thead>\n",
       "    <tr style=\"text-align: right;\">\n",
       "      <th></th>\n",
       "      <th>count</th>\n",
       "      <th>mean</th>\n",
       "      <th>std</th>\n",
       "      <th>min</th>\n",
       "      <th>25%</th>\n",
       "      <th>50%</th>\n",
       "      <th>75%</th>\n",
       "      <th>max</th>\n",
       "    </tr>\n",
       "  </thead>\n",
       "  <tbody>\n",
       "    <tr>\n",
       "      <th>steering</th>\n",
       "      <td>8036.0</td>\n",
       "      <td>0.004070</td>\n",
       "      <td>0.128840</td>\n",
       "      <td>-0.942695</td>\n",
       "      <td>0.000000</td>\n",
       "      <td>0.000000</td>\n",
       "      <td>0.000000</td>\n",
       "      <td>1.000000</td>\n",
       "    </tr>\n",
       "    <tr>\n",
       "      <th>throttle</th>\n",
       "      <td>8036.0</td>\n",
       "      <td>0.869660</td>\n",
       "      <td>0.301326</td>\n",
       "      <td>0.000000</td>\n",
       "      <td>0.985533</td>\n",
       "      <td>0.985533</td>\n",
       "      <td>0.985533</td>\n",
       "      <td>0.985533</td>\n",
       "    </tr>\n",
       "    <tr>\n",
       "      <th>brake</th>\n",
       "      <td>8036.0</td>\n",
       "      <td>0.001970</td>\n",
       "      <td>0.036565</td>\n",
       "      <td>0.000000</td>\n",
       "      <td>0.000000</td>\n",
       "      <td>0.000000</td>\n",
       "      <td>0.000000</td>\n",
       "      <td>1.000000</td>\n",
       "    </tr>\n",
       "    <tr>\n",
       "      <th>speed</th>\n",
       "      <td>8036.0</td>\n",
       "      <td>28.169839</td>\n",
       "      <td>6.149327</td>\n",
       "      <td>0.502490</td>\n",
       "      <td>30.183093</td>\n",
       "      <td>30.186400</td>\n",
       "      <td>30.186640</td>\n",
       "      <td>30.709360</td>\n",
       "    </tr>\n",
       "  </tbody>\n",
       "</table>\n",
       "</div>"
      ],
      "text/plain": [
       "           count       mean       std       min        25%        50%  \\\n",
       "steering  8036.0   0.004070  0.128840 -0.942695   0.000000   0.000000   \n",
       "throttle  8036.0   0.869660  0.301326  0.000000   0.985533   0.985533   \n",
       "brake     8036.0   0.001970  0.036565  0.000000   0.000000   0.000000   \n",
       "speed     8036.0  28.169839  6.149327  0.502490  30.183093  30.186400   \n",
       "\n",
       "                75%        max  \n",
       "steering   0.000000   1.000000  \n",
       "throttle   0.985533   0.985533  \n",
       "brake      0.000000   1.000000  \n",
       "speed     30.186640  30.709360  "
      ]
     },
     "execution_count": 7,
     "metadata": {},
     "output_type": "execute_result"
    }
   ],
   "source": [
    "df1_summary = df1.describe().transpose()\n",
    "df1_summary_cols = df1_summary.index\n",
    "print(df1_summary_cols)\n",
    "df1_summary"
   ]
  },
  {
   "cell_type": "code",
   "execution_count": 8,
   "metadata": {
    "collapsed": false,
    "deletable": true,
    "editable": true
   },
   "outputs": [
    {
     "data": {
      "text/plain": [
       "<matplotlib.axes._subplots.AxesSubplot at 0x7f20b434b7b8>"
      ]
     },
     "execution_count": 8,
     "metadata": {},
     "output_type": "execute_result"
    },
    {
     "data": {
      "image/png": "[encoded data removed]",
      "text/plain": [
       "<matplotlib.figure.Figure at 0x7f20b4327f60>"
      ]
     },
     "metadata": {},
     "output_type": "display_data"
    }
   ],
   "source": [
    "df1.plot(kind='box')"
   ]
  },
  {
   "cell_type": "code",
   "execution_count": 9,
   "metadata": {
    "collapsed": false,
    "deletable": true,
    "editable": true,
    "scrolled": false
   },
   "outputs": [
    {
     "data": {
      "image/png": "[encoded data removed]",
      "text/plain": [
       "<matplotlib.figure.Figure at 0x7f20b42979b0>"
      ]
     },
     "metadata": {},
     "output_type": "display_data"
    }
   ],
   "source": [
    "# normalise data\n",
    "df1_norm = normalize(df1[df1_summary_cols][:])\n",
    "\n",
    "# put into dataframe for easy charting\n",
    "df1_norm = pd.DataFrame(df1_norm, columns=df1_summary_cols)\n",
    "\n",
    "# drop columns with zero mean and zero std.dev\n",
    "df1_norm = df1_norm.loc[:, (df1_norm.mean() != 0.) & (df1_norm.std() != 0.)]\n",
    "\n",
    "# plot kde\n",
    "df1_norm.plot(kind='kde', \n",
    "              subplots=True, \n",
    "              figsize=(10, 5))\n",
    "plt.tight_layout()"
   ]
  },
  {
   "cell_type": "markdown",
   "metadata": {
    "deletable": true,
    "editable": true
   },
   "source": [
    "# Sim Track 1: Direction = Default"
   ]
  },
  {
   "cell_type": "code",
   "execution_count": 10,
   "metadata": {
    "collapsed": false,
    "deletable": true,
    "editable": true
   },
   "outputs": [],
   "source": [
    "df2 = pd.read_csv('../data/raw/sim_track_1_direction_default/driving_log.csv', \n",
    "                  header=None, \n",
    "                  names=columns)"
   ]
  },
  {
   "cell_type": "code",
   "execution_count": 11,
   "metadata": {
    "collapsed": false,
    "deletable": true,
    "editable": true
   },
   "outputs": [
    {
     "data": {
      "text/plain": [
       "2719"
      ]
     },
     "execution_count": 11,
     "metadata": {},
     "output_type": "execute_result"
    }
   ],
   "source": [
    "df2_count = len(df2)\n",
    "df2_count"
   ]
  },
  {
   "cell_type": "code",
   "execution_count": 12,
   "metadata": {
    "collapsed": false,
    "deletable": true,
    "editable": true
   },
   "outputs": [
    {
     "name": "stdout",
     "output_type": "stream",
     "text": [
      "<class 'pandas.core.frame.DataFrame'>\n",
      "RangeIndex: 2719 entries, 0 to 2718\n",
      "Data columns (total 7 columns):\n",
      "center      2719 non-null object\n",
      "left        2719 non-null object\n",
      "right       2719 non-null object\n",
      "steering    2719 non-null float64\n",
      "throttle    2719 non-null float64\n",
      "brake       2719 non-null int64\n",
      "speed       2719 non-null float64\n",
      "dtypes: float64(3), int64(1), object(3)\n",
      "memory usage: 148.8+ KB\n"
     ]
    }
   ],
   "source": [
    "df2.info()"
   ]
  },
  {
   "cell_type": "code",
   "execution_count": 13,
   "metadata": {
    "collapsed": false,
    "deletable": true,
    "editable": true
   },
   "outputs": [
    {
     "data": {
      "text/html": [
       "<div>\n",
       "<table border=\"1\" class=\"dataframe\">\n",
       "  <thead>\n",
       "    <tr style=\"text-align: right;\">\n",
       "      <th></th>\n",
       "      <th>center</th>\n",
       "      <th>left</th>\n",
       "      <th>right</th>\n",
       "      <th>steering</th>\n",
       "      <th>throttle</th>\n",
       "      <th>brake</th>\n",
       "      <th>speed</th>\n",
       "    </tr>\n",
       "  </thead>\n",
       "  <tbody>\n",
       "    <tr>\n",
       "      <th>0</th>\n",
       "      <td>/home/adrian/repos/udacity_carnd/project_3/dat...</td>\n",
       "      <td>/home/adrian/repos/udacity_carnd/project_3/dat...</td>\n",
       "      <td>/home/adrian/repos/udacity_carnd/project_3/dat...</td>\n",
       "      <td>-0.00442</td>\n",
       "      <td>0.4</td>\n",
       "      <td>0</td>\n",
       "      <td>21.89313</td>\n",
       "    </tr>\n",
       "    <tr>\n",
       "      <th>1</th>\n",
       "      <td>/home/adrian/repos/udacity_carnd/project_3/dat...</td>\n",
       "      <td>/home/adrian/repos/udacity_carnd/project_3/dat...</td>\n",
       "      <td>/home/adrian/repos/udacity_carnd/project_3/dat...</td>\n",
       "      <td>-0.00442</td>\n",
       "      <td>0.4</td>\n",
       "      <td>0</td>\n",
       "      <td>21.99177</td>\n",
       "    </tr>\n",
       "    <tr>\n",
       "      <th>2</th>\n",
       "      <td>/home/adrian/repos/udacity_carnd/project_3/dat...</td>\n",
       "      <td>/home/adrian/repos/udacity_carnd/project_3/dat...</td>\n",
       "      <td>/home/adrian/repos/udacity_carnd/project_3/dat...</td>\n",
       "      <td>-0.00442</td>\n",
       "      <td>0.4</td>\n",
       "      <td>0</td>\n",
       "      <td>22.40355</td>\n",
       "    </tr>\n",
       "    <tr>\n",
       "      <th>3</th>\n",
       "      <td>/home/adrian/repos/udacity_carnd/project_3/dat...</td>\n",
       "      <td>/home/adrian/repos/udacity_carnd/project_3/dat...</td>\n",
       "      <td>/home/adrian/repos/udacity_carnd/project_3/dat...</td>\n",
       "      <td>-0.00442</td>\n",
       "      <td>0.4</td>\n",
       "      <td>0</td>\n",
       "      <td>22.54704</td>\n",
       "    </tr>\n",
       "    <tr>\n",
       "      <th>4</th>\n",
       "      <td>/home/adrian/repos/udacity_carnd/project_3/dat...</td>\n",
       "      <td>/home/adrian/repos/udacity_carnd/project_3/dat...</td>\n",
       "      <td>/home/adrian/repos/udacity_carnd/project_3/dat...</td>\n",
       "      <td>-0.00442</td>\n",
       "      <td>0.4</td>\n",
       "      <td>0</td>\n",
       "      <td>22.89278</td>\n",
       "    </tr>\n",
       "  </tbody>\n",
       "</table>\n",
       "</div>"
      ],
      "text/plain": [
       "                                              center  \\\n",
       "0  /home/adrian/repos/udacity_carnd/project_3/dat...   \n",
       "1  /home/adrian/repos/udacity_carnd/project_3/dat...   \n",
       "2  /home/adrian/repos/udacity_carnd/project_3/dat...   \n",
       "3  /home/adrian/repos/udacity_carnd/project_3/dat...   \n",
       "4  /home/adrian/repos/udacity_carnd/project_3/dat...   \n",
       "\n",
       "                                                left  \\\n",
       "0  /home/adrian/repos/udacity_carnd/project_3/dat...   \n",
       "1  /home/adrian/repos/udacity_carnd/project_3/dat...   \n",
       "2  /home/adrian/repos/udacity_carnd/project_3/dat...   \n",
       "3  /home/adrian/repos/udacity_carnd/project_3/dat...   \n",
       "4  /home/adrian/repos/udacity_carnd/project_3/dat...   \n",
       "\n",
       "                                               right  steering  throttle  \\\n",
       "0  /home/adrian/repos/udacity_carnd/project_3/dat...  -0.00442       0.4   \n",
       "1  /home/adrian/repos/udacity_carnd/project_3/dat...  -0.00442       0.4   \n",
       "2  /home/adrian/repos/udacity_carnd/project_3/dat...  -0.00442       0.4   \n",
       "3  /home/adrian/repos/udacity_carnd/project_3/dat...  -0.00442       0.4   \n",
       "4  /home/adrian/repos/udacity_carnd/project_3/dat...  -0.00442       0.4   \n",
       "\n",
       "   brake     speed  \n",
       "0      0  21.89313  \n",
       "1      0  21.99177  \n",
       "2      0  22.40355  \n",
       "3      0  22.54704  \n",
       "4      0  22.89278  "
      ]
     },
     "execution_count": 13,
     "metadata": {},
     "output_type": "execute_result"
    }
   ],
   "source": [
    "df2.head()"
   ]
  },
  {
   "cell_type": "code",
   "execution_count": 14,
   "metadata": {
    "collapsed": false,
    "deletable": true,
    "editable": true
   },
   "outputs": [
    {
     "name": "stdout",
     "output_type": "stream",
     "text": [
      "Index(['steering', 'throttle', 'brake', 'speed'], dtype='object')\n"
     ]
    },
    {
     "data": {
      "text/html": [
       "<div>\n",
       "<table border=\"1\" class=\"dataframe\">\n",
       "  <thead>\n",
       "    <tr style=\"text-align: right;\">\n",
       "      <th></th>\n",
       "      <th>count</th>\n",
       "      <th>mean</th>\n",
       "      <th>std</th>\n",
       "      <th>min</th>\n",
       "      <th>25%</th>\n",
       "      <th>50%</th>\n",
       "      <th>75%</th>\n",
       "      <th>max</th>\n",
       "    </tr>\n",
       "  </thead>\n",
       "  <tbody>\n",
       "    <tr>\n",
       "      <th>steering</th>\n",
       "      <td>2719.0</td>\n",
       "      <td>-0.037111</td>\n",
       "      <td>7.937210e-02</td>\n",
       "      <td>-0.366861</td>\n",
       "      <td>-0.07072</td>\n",
       "      <td>-0.03094</td>\n",
       "      <td>-0.00884</td>\n",
       "      <td>0.296141</td>\n",
       "    </tr>\n",
       "    <tr>\n",
       "      <th>throttle</th>\n",
       "      <td>2719.0</td>\n",
       "      <td>0.400000</td>\n",
       "      <td>5.552136e-17</td>\n",
       "      <td>0.400000</td>\n",
       "      <td>0.40000</td>\n",
       "      <td>0.40000</td>\n",
       "      <td>0.40000</td>\n",
       "      <td>0.400000</td>\n",
       "    </tr>\n",
       "    <tr>\n",
       "      <th>brake</th>\n",
       "      <td>2719.0</td>\n",
       "      <td>0.000000</td>\n",
       "      <td>0.000000e+00</td>\n",
       "      <td>0.000000</td>\n",
       "      <td>0.00000</td>\n",
       "      <td>0.00000</td>\n",
       "      <td>0.00000</td>\n",
       "      <td>0.000000</td>\n",
       "    </tr>\n",
       "    <tr>\n",
       "      <th>speed</th>\n",
       "      <td>2719.0</td>\n",
       "      <td>29.983366</td>\n",
       "      <td>5.398903e-01</td>\n",
       "      <td>21.893130</td>\n",
       "      <td>30.03805</td>\n",
       "      <td>30.03831</td>\n",
       "      <td>30.03837</td>\n",
       "      <td>30.489870</td>\n",
       "    </tr>\n",
       "  </tbody>\n",
       "</table>\n",
       "</div>"
      ],
      "text/plain": [
       "           count       mean           std        min       25%       50%  \\\n",
       "steering  2719.0  -0.037111  7.937210e-02  -0.366861  -0.07072  -0.03094   \n",
       "throttle  2719.0   0.400000  5.552136e-17   0.400000   0.40000   0.40000   \n",
       "brake     2719.0   0.000000  0.000000e+00   0.000000   0.00000   0.00000   \n",
       "speed     2719.0  29.983366  5.398903e-01  21.893130  30.03805  30.03831   \n",
       "\n",
       "               75%        max  \n",
       "steering  -0.00884   0.296141  \n",
       "throttle   0.40000   0.400000  \n",
       "brake      0.00000   0.000000  \n",
       "speed     30.03837  30.489870  "
      ]
     },
     "execution_count": 14,
     "metadata": {},
     "output_type": "execute_result"
    }
   ],
   "source": [
    "df2_summary = df2.describe().transpose()\n",
    "df2_summary_cols = df2_summary.index\n",
    "print(df2_summary_cols)\n",
    "df2_summary"
   ]
  },
  {
   "cell_type": "code",
   "execution_count": 15,
   "metadata": {
    "collapsed": false,
    "deletable": true,
    "editable": true
   },
   "outputs": [
    {
     "data": {
      "text/plain": [
       "<matplotlib.axes._subplots.AxesSubplot at 0x7f20b408b6a0>"
      ]
     },
     "execution_count": 15,
     "metadata": {},
     "output_type": "execute_result"
    },
    {
     "data": {
      "image/png": "[encoded data removed]",
      "text/plain": [
       "<matplotlib.figure.Figure at 0x7f20b4210390>"
      ]
     },
     "metadata": {},
     "output_type": "display_data"
    }
   ],
   "source": [
    "df2.plot(kind='box')"
   ]
  },
  {
   "cell_type": "code",
   "execution_count": 16,
   "metadata": {
    "collapsed": false,
    "deletable": true,
    "editable": true,
    "scrolled": false
   },
   "outputs": [
    {
     "data": {
      "image/png": "[encoded data removed]",
      "text/plain": [
       "<matplotlib.figure.Figure at 0x7f20b1c08a90>"
      ]
     },
     "metadata": {},
     "output_type": "display_data"
    }
   ],
   "source": [
    "# normalise data\n",
    "df2_norm = normalize(df2[df2_summary_cols][:])\n",
    "\n",
    "# put into dataframe for easy charting\n",
    "df2_norm = pd.DataFrame(df2_norm, columns=df2_summary_cols)\n",
    "\n",
    "# drop columns with zero mean and zero std.dev\n",
    "df2_norm = df2_norm.loc[:, (df2_norm.mean() != 0.) & (df2_norm.std() != 0.)]\n",
    "\n",
    "# plot kde\n",
    "df2_norm.plot(kind='kde', \n",
    "              subplots=True, \n",
    "              figsize=(10, 5))\n",
    "plt.tight_layout()"
   ]
  },
  {
   "cell_type": "markdown",
   "metadata": {
    "deletable": true,
    "editable": true
   },
   "source": [
    "# Sim Track 1: Direction=Reverse"
   ]
  },
  {
   "cell_type": "code",
   "execution_count": 17,
   "metadata": {
    "collapsed": true,
    "deletable": true,
    "editable": true
   },
   "outputs": [],
   "source": [
    "df3 = pd.read_csv('../data/raw/sim_track_1_direction_reverse/driving_log.csv', \n",
    "                  header=None, \n",
    "                  names=columns)"
   ]
  },
  {
   "cell_type": "code",
   "execution_count": 18,
   "metadata": {
    "collapsed": false,
    "deletable": true,
    "editable": true
   },
   "outputs": [
    {
     "data": {
      "text/plain": [
       "2568"
      ]
     },
     "execution_count": 18,
     "metadata": {},
     "output_type": "execute_result"
    }
   ],
   "source": [
    "df3_count = len(df3)\n",
    "df3_count"
   ]
  },
  {
   "cell_type": "code",
   "execution_count": 19,
   "metadata": {
    "collapsed": false,
    "deletable": true,
    "editable": true
   },
   "outputs": [
    {
     "name": "stdout",
     "output_type": "stream",
     "text": [
      "<class 'pandas.core.frame.DataFrame'>\n",
      "RangeIndex: 2568 entries, 0 to 2567\n",
      "Data columns (total 7 columns):\n",
      "center      2568 non-null object\n",
      "left        2568 non-null object\n",
      "right       2568 non-null object\n",
      "steering    2568 non-null float64\n",
      "throttle    2568 non-null float64\n",
      "brake       2568 non-null int64\n",
      "speed       2568 non-null float64\n",
      "dtypes: float64(3), int64(1), object(3)\n",
      "memory usage: 140.5+ KB\n"
     ]
    }
   ],
   "source": [
    "df3.info()"
   ]
  },
  {
   "cell_type": "code",
   "execution_count": 20,
   "metadata": {
    "collapsed": false,
    "deletable": true,
    "editable": true
   },
   "outputs": [
    {
     "data": {
      "text/html": [
       "<div>\n",
       "<table border=\"1\" class=\"dataframe\">\n",
       "  <thead>\n",
       "    <tr style=\"text-align: right;\">\n",
       "      <th></th>\n",
       "      <th>center</th>\n",
       "      <th>left</th>\n",
       "      <th>right</th>\n",
       "      <th>steering</th>\n",
       "      <th>throttle</th>\n",
       "      <th>brake</th>\n",
       "      <th>speed</th>\n",
       "    </tr>\n",
       "  </thead>\n",
       "  <tbody>\n",
       "    <tr>\n",
       "      <th>0</th>\n",
       "      <td>/home/adrian/repos/udacity_carnd/project_3/dat...</td>\n",
       "      <td>/home/adrian/repos/udacity_carnd/project_3/dat...</td>\n",
       "      <td>/home/adrian/repos/udacity_carnd/project_3/dat...</td>\n",
       "      <td>0.01768</td>\n",
       "      <td>0.4</td>\n",
       "      <td>0</td>\n",
       "      <td>22.05317</td>\n",
       "    </tr>\n",
       "    <tr>\n",
       "      <th>1</th>\n",
       "      <td>/home/adrian/repos/udacity_carnd/project_3/dat...</td>\n",
       "      <td>/home/adrian/repos/udacity_carnd/project_3/dat...</td>\n",
       "      <td>/home/adrian/repos/udacity_carnd/project_3/dat...</td>\n",
       "      <td>0.01768</td>\n",
       "      <td>0.4</td>\n",
       "      <td>0</td>\n",
       "      <td>22.16373</td>\n",
       "    </tr>\n",
       "    <tr>\n",
       "      <th>2</th>\n",
       "      <td>/home/adrian/repos/udacity_carnd/project_3/dat...</td>\n",
       "      <td>/home/adrian/repos/udacity_carnd/project_3/dat...</td>\n",
       "      <td>/home/adrian/repos/udacity_carnd/project_3/dat...</td>\n",
       "      <td>0.01768</td>\n",
       "      <td>0.4</td>\n",
       "      <td>0</td>\n",
       "      <td>22.55709</td>\n",
       "    </tr>\n",
       "    <tr>\n",
       "      <th>3</th>\n",
       "      <td>/home/adrian/repos/udacity_carnd/project_3/dat...</td>\n",
       "      <td>/home/adrian/repos/udacity_carnd/project_3/dat...</td>\n",
       "      <td>/home/adrian/repos/udacity_carnd/project_3/dat...</td>\n",
       "      <td>0.01768</td>\n",
       "      <td>0.4</td>\n",
       "      <td>0</td>\n",
       "      <td>22.71801</td>\n",
       "    </tr>\n",
       "    <tr>\n",
       "      <th>4</th>\n",
       "      <td>/home/adrian/repos/udacity_carnd/project_3/dat...</td>\n",
       "      <td>/home/adrian/repos/udacity_carnd/project_3/dat...</td>\n",
       "      <td>/home/adrian/repos/udacity_carnd/project_3/dat...</td>\n",
       "      <td>0.00884</td>\n",
       "      <td>0.4</td>\n",
       "      <td>0</td>\n",
       "      <td>23.04240</td>\n",
       "    </tr>\n",
       "  </tbody>\n",
       "</table>\n",
       "</div>"
      ],
      "text/plain": [
       "                                              center  \\\n",
       "0  /home/adrian/repos/udacity_carnd/project_3/dat...   \n",
       "1  /home/adrian/repos/udacity_carnd/project_3/dat...   \n",
       "2  /home/adrian/repos/udacity_carnd/project_3/dat...   \n",
       "3  /home/adrian/repos/udacity_carnd/project_3/dat...   \n",
       "4  /home/adrian/repos/udacity_carnd/project_3/dat...   \n",
       "\n",
       "                                                left  \\\n",
       "0  /home/adrian/repos/udacity_carnd/project_3/dat...   \n",
       "1  /home/adrian/repos/udacity_carnd/project_3/dat...   \n",
       "2  /home/adrian/repos/udacity_carnd/project_3/dat...   \n",
       "3  /home/adrian/repos/udacity_carnd/project_3/dat...   \n",
       "4  /home/adrian/repos/udacity_carnd/project_3/dat...   \n",
       "\n",
       "                                               right  steering  throttle  \\\n",
       "0  /home/adrian/repos/udacity_carnd/project_3/dat...   0.01768       0.4   \n",
       "1  /home/adrian/repos/udacity_carnd/project_3/dat...   0.01768       0.4   \n",
       "2  /home/adrian/repos/udacity_carnd/project_3/dat...   0.01768       0.4   \n",
       "3  /home/adrian/repos/udacity_carnd/project_3/dat...   0.01768       0.4   \n",
       "4  /home/adrian/repos/udacity_carnd/project_3/dat...   0.00884       0.4   \n",
       "\n",
       "   brake     speed  \n",
       "0      0  22.05317  \n",
       "1      0  22.16373  \n",
       "2      0  22.55709  \n",
       "3      0  22.71801  \n",
       "4      0  23.04240  "
      ]
     },
     "execution_count": 20,
     "metadata": {},
     "output_type": "execute_result"
    }
   ],
   "source": [
    "df3.head()"
   ]
  },
  {
   "cell_type": "code",
   "execution_count": 21,
   "metadata": {
    "collapsed": false,
    "deletable": true,
    "editable": true
   },
   "outputs": [
    {
     "name": "stdout",
     "output_type": "stream",
     "text": [
      "Index(['steering', 'throttle', 'brake', 'speed'], dtype='object')\n"
     ]
    },
    {
     "data": {
      "text/html": [
       "<div>\n",
       "<table border=\"1\" class=\"dataframe\">\n",
       "  <thead>\n",
       "    <tr style=\"text-align: right;\">\n",
       "      <th></th>\n",
       "      <th>count</th>\n",
       "      <th>mean</th>\n",
       "      <th>std</th>\n",
       "      <th>min</th>\n",
       "      <th>25%</th>\n",
       "      <th>50%</th>\n",
       "      <th>75%</th>\n",
       "      <th>max</th>\n",
       "    </tr>\n",
       "  </thead>\n",
       "  <tbody>\n",
       "    <tr>\n",
       "      <th>steering</th>\n",
       "      <td>2568.0</td>\n",
       "      <td>0.033004</td>\n",
       "      <td>7.972712e-02</td>\n",
       "      <td>-0.358021</td>\n",
       "      <td>0.00442</td>\n",
       "      <td>0.02652</td>\n",
       "      <td>0.06630</td>\n",
       "      <td>0.335921</td>\n",
       "    </tr>\n",
       "    <tr>\n",
       "      <th>throttle</th>\n",
       "      <td>2568.0</td>\n",
       "      <td>0.400000</td>\n",
       "      <td>1.110439e-16</td>\n",
       "      <td>0.400000</td>\n",
       "      <td>0.40000</td>\n",
       "      <td>0.40000</td>\n",
       "      <td>0.40000</td>\n",
       "      <td>0.400000</td>\n",
       "    </tr>\n",
       "    <tr>\n",
       "      <th>brake</th>\n",
       "      <td>2568.0</td>\n",
       "      <td>0.000000</td>\n",
       "      <td>0.000000e+00</td>\n",
       "      <td>0.000000</td>\n",
       "      <td>0.00000</td>\n",
       "      <td>0.00000</td>\n",
       "      <td>0.00000</td>\n",
       "      <td>0.000000</td>\n",
       "    </tr>\n",
       "    <tr>\n",
       "      <th>speed</th>\n",
       "      <td>2568.0</td>\n",
       "      <td>29.981615</td>\n",
       "      <td>5.410350e-01</td>\n",
       "      <td>22.053170</td>\n",
       "      <td>30.03819</td>\n",
       "      <td>30.03835</td>\n",
       "      <td>30.03838</td>\n",
       "      <td>30.344190</td>\n",
       "    </tr>\n",
       "  </tbody>\n",
       "</table>\n",
       "</div>"
      ],
      "text/plain": [
       "           count       mean           std        min       25%       50%  \\\n",
       "steering  2568.0   0.033004  7.972712e-02  -0.358021   0.00442   0.02652   \n",
       "throttle  2568.0   0.400000  1.110439e-16   0.400000   0.40000   0.40000   \n",
       "brake     2568.0   0.000000  0.000000e+00   0.000000   0.00000   0.00000   \n",
       "speed     2568.0  29.981615  5.410350e-01  22.053170  30.03819  30.03835   \n",
       "\n",
       "               75%        max  \n",
       "steering   0.06630   0.335921  \n",
       "throttle   0.40000   0.400000  \n",
       "brake      0.00000   0.000000  \n",
       "speed     30.03838  30.344190  "
      ]
     },
     "execution_count": 21,
     "metadata": {},
     "output_type": "execute_result"
    }
   ],
   "source": [
    "df3_summary = df3.describe().transpose()\n",
    "df3_summary_cols = df3_summary.index\n",
    "print(df3_summary_cols)\n",
    "df3_summary"
   ]
  },
  {
   "cell_type": "code",
   "execution_count": 22,
   "metadata": {
    "collapsed": false,
    "deletable": true,
    "editable": true
   },
   "outputs": [
    {
     "data": {
      "text/plain": [
       "<matplotlib.axes._subplots.AxesSubplot at 0x7f20b1aa1470>"
      ]
     },
     "execution_count": 22,
     "metadata": {},
     "output_type": "execute_result"
    },
    {
     "data": {
      "image/png": "[encoded data removed]",
      "text/plain": [
       "<matplotlib.figure.Figure at 0x7f20b1b23390>"
      ]
     },
     "metadata": {},
     "output_type": "display_data"
    }
   ],
   "source": [
    "df3.plot(kind='box')"
   ]
  },
  {
   "cell_type": "code",
   "execution_count": 23,
   "metadata": {
    "collapsed": false,
    "deletable": true,
    "editable": true,
    "scrolled": false
   },
   "outputs": [
    {
     "data": {
      "image/png": "[encoded data removed]",
      "text/plain": [
       "<matplotlib.figure.Figure at 0x7f20b19aeba8>"
      ]
     },
     "metadata": {},
     "output_type": "display_data"
    }
   ],
   "source": [
    "# normalise data\n",
    "df3_norm = normalize(df3[df3_summary_cols][:])\n",
    "\n",
    "# put into dataframe for easy charting\n",
    "df3_norm = pd.DataFrame(df3_norm, columns=df3_summary_cols)\n",
    "\n",
    "# drop columns with zero mean and zero std.dev\n",
    "df3_norm = df3_norm.loc[:, (df3_norm.mean() != 0.) & (df3_norm.std() != 0.)]\n",
    "\n",
    "# plot kde\n",
    "df3_norm.plot(kind='kde', \n",
    "              subplots=True, \n",
    "              figsize=(10, 5))\n",
    "plt.tight_layout()"
   ]
  },
  {
   "cell_type": "markdown",
   "metadata": {
    "deletable": true,
    "editable": true
   },
   "source": [
    "## Sim Track 2: Direction=Default"
   ]
  },
  {
   "cell_type": "code",
   "execution_count": 24,
   "metadata": {
    "collapsed": true,
    "deletable": true,
    "editable": true
   },
   "outputs": [],
   "source": [
    "df4 = pd.read_csv('../data/raw/sim_track_2_direction_default/driving_log.csv', \n",
    "                  header=None, \n",
    "                  names=columns)"
   ]
  },
  {
   "cell_type": "code",
   "execution_count": 25,
   "metadata": {
    "collapsed": false,
    "deletable": true,
    "editable": true
   },
   "outputs": [
    {
     "data": {
      "text/plain": [
       "2568"
      ]
     },
     "execution_count": 25,
     "metadata": {},
     "output_type": "execute_result"
    }
   ],
   "source": [
    "df4_count = len(df3)\n",
    "df4_count"
   ]
  },
  {
   "cell_type": "code",
   "execution_count": 26,
   "metadata": {
    "collapsed": false,
    "deletable": true,
    "editable": true
   },
   "outputs": [
    {
     "name": "stdout",
     "output_type": "stream",
     "text": [
      "<class 'pandas.core.frame.DataFrame'>\n",
      "RangeIndex: 1892 entries, 0 to 1891\n",
      "Data columns (total 7 columns):\n",
      "center      1892 non-null object\n",
      "left        1892 non-null object\n",
      "right       1892 non-null object\n",
      "steering    1892 non-null float64\n",
      "throttle    1892 non-null float64\n",
      "brake       1892 non-null float64\n",
      "speed       1892 non-null float64\n",
      "dtypes: float64(4), object(3)\n",
      "memory usage: 103.5+ KB\n"
     ]
    }
   ],
   "source": [
    "df4.info()"
   ]
  },
  {
   "cell_type": "code",
   "execution_count": 27,
   "metadata": {
    "collapsed": false,
    "deletable": true,
    "editable": true
   },
   "outputs": [
    {
     "data": {
      "text/html": [
       "<div>\n",
       "<table border=\"1\" class=\"dataframe\">\n",
       "  <thead>\n",
       "    <tr style=\"text-align: right;\">\n",
       "      <th></th>\n",
       "      <th>center</th>\n",
       "      <th>left</th>\n",
       "      <th>right</th>\n",
       "      <th>steering</th>\n",
       "      <th>throttle</th>\n",
       "      <th>brake</th>\n",
       "      <th>speed</th>\n",
       "    </tr>\n",
       "  </thead>\n",
       "  <tbody>\n",
       "    <tr>\n",
       "      <th>0</th>\n",
       "      <td>/home/adrian/repos/udacity_carnd/project_3/dat...</td>\n",
       "      <td>/home/adrian/repos/udacity_carnd/project_3/dat...</td>\n",
       "      <td>/home/adrian/repos/udacity_carnd/project_3/dat...</td>\n",
       "      <td>0.0</td>\n",
       "      <td>0.0</td>\n",
       "      <td>0.0</td>\n",
       "      <td>5.104989</td>\n",
       "    </tr>\n",
       "    <tr>\n",
       "      <th>1</th>\n",
       "      <td>/home/adrian/repos/udacity_carnd/project_3/dat...</td>\n",
       "      <td>/home/adrian/repos/udacity_carnd/project_3/dat...</td>\n",
       "      <td>/home/adrian/repos/udacity_carnd/project_3/dat...</td>\n",
       "      <td>0.0</td>\n",
       "      <td>0.0</td>\n",
       "      <td>0.0</td>\n",
       "      <td>5.053757</td>\n",
       "    </tr>\n",
       "    <tr>\n",
       "      <th>2</th>\n",
       "      <td>/home/adrian/repos/udacity_carnd/project_3/dat...</td>\n",
       "      <td>/home/adrian/repos/udacity_carnd/project_3/dat...</td>\n",
       "      <td>/home/adrian/repos/udacity_carnd/project_3/dat...</td>\n",
       "      <td>0.0</td>\n",
       "      <td>0.0</td>\n",
       "      <td>0.0</td>\n",
       "      <td>5.003038</td>\n",
       "    </tr>\n",
       "    <tr>\n",
       "      <th>3</th>\n",
       "      <td>/home/adrian/repos/udacity_carnd/project_3/dat...</td>\n",
       "      <td>/home/adrian/repos/udacity_carnd/project_3/dat...</td>\n",
       "      <td>/home/adrian/repos/udacity_carnd/project_3/dat...</td>\n",
       "      <td>0.0</td>\n",
       "      <td>0.0</td>\n",
       "      <td>0.0</td>\n",
       "      <td>4.952826</td>\n",
       "    </tr>\n",
       "    <tr>\n",
       "      <th>4</th>\n",
       "      <td>/home/adrian/repos/udacity_carnd/project_3/dat...</td>\n",
       "      <td>/home/adrian/repos/udacity_carnd/project_3/dat...</td>\n",
       "      <td>/home/adrian/repos/udacity_carnd/project_3/dat...</td>\n",
       "      <td>0.0</td>\n",
       "      <td>0.0</td>\n",
       "      <td>0.0</td>\n",
       "      <td>4.903121</td>\n",
       "    </tr>\n",
       "  </tbody>\n",
       "</table>\n",
       "</div>"
      ],
      "text/plain": [
       "                                              center  \\\n",
       "0  /home/adrian/repos/udacity_carnd/project_3/dat...   \n",
       "1  /home/adrian/repos/udacity_carnd/project_3/dat...   \n",
       "2  /home/adrian/repos/udacity_carnd/project_3/dat...   \n",
       "3  /home/adrian/repos/udacity_carnd/project_3/dat...   \n",
       "4  /home/adrian/repos/udacity_carnd/project_3/dat...   \n",
       "\n",
       "                                                left  \\\n",
       "0  /home/adrian/repos/udacity_carnd/project_3/dat...   \n",
       "1  /home/adrian/repos/udacity_carnd/project_3/dat...   \n",
       "2  /home/adrian/repos/udacity_carnd/project_3/dat...   \n",
       "3  /home/adrian/repos/udacity_carnd/project_3/dat...   \n",
       "4  /home/adrian/repos/udacity_carnd/project_3/dat...   \n",
       "\n",
       "                                               right  steering  throttle  \\\n",
       "0  /home/adrian/repos/udacity_carnd/project_3/dat...       0.0       0.0   \n",
       "1  /home/adrian/repos/udacity_carnd/project_3/dat...       0.0       0.0   \n",
       "2  /home/adrian/repos/udacity_carnd/project_3/dat...       0.0       0.0   \n",
       "3  /home/adrian/repos/udacity_carnd/project_3/dat...       0.0       0.0   \n",
       "4  /home/adrian/repos/udacity_carnd/project_3/dat...       0.0       0.0   \n",
       "\n",
       "   brake     speed  \n",
       "0    0.0  5.104989  \n",
       "1    0.0  5.053757  \n",
       "2    0.0  5.003038  \n",
       "3    0.0  4.952826  \n",
       "4    0.0  4.903121  "
      ]
     },
     "execution_count": 27,
     "metadata": {},
     "output_type": "execute_result"
    }
   ],
   "source": [
    "df4.head()"
   ]
  },
  {
   "cell_type": "code",
   "execution_count": 28,
   "metadata": {
    "collapsed": false,
    "deletable": true,
    "editable": true
   },
   "outputs": [
    {
     "name": "stdout",
     "output_type": "stream",
     "text": [
      "Index(['steering', 'throttle', 'brake', 'speed'], dtype='object')\n"
     ]
    },
    {
     "data": {
      "text/html": [
       "<div>\n",
       "<table border=\"1\" class=\"dataframe\">\n",
       "  <thead>\n",
       "    <tr style=\"text-align: right;\">\n",
       "      <th></th>\n",
       "      <th>count</th>\n",
       "      <th>mean</th>\n",
       "      <th>std</th>\n",
       "      <th>min</th>\n",
       "      <th>25%</th>\n",
       "      <th>50%</th>\n",
       "      <th>75%</th>\n",
       "      <th>max</th>\n",
       "    </tr>\n",
       "  </thead>\n",
       "  <tbody>\n",
       "    <tr>\n",
       "      <th>steering</th>\n",
       "      <td>1892.0</td>\n",
       "      <td>-0.002504</td>\n",
       "      <td>0.373451</td>\n",
       "      <td>-0.919362</td>\n",
       "      <td>-0.274041</td>\n",
       "      <td>0.00000</td>\n",
       "      <td>0.304981</td>\n",
       "      <td>0.976823</td>\n",
       "    </tr>\n",
       "    <tr>\n",
       "      <th>throttle</th>\n",
       "      <td>1892.0</td>\n",
       "      <td>0.214573</td>\n",
       "      <td>0.325870</td>\n",
       "      <td>0.000000</td>\n",
       "      <td>0.000000</td>\n",
       "      <td>0.00000</td>\n",
       "      <td>0.396757</td>\n",
       "      <td>1.000000</td>\n",
       "    </tr>\n",
       "    <tr>\n",
       "      <th>brake</th>\n",
       "      <td>1892.0</td>\n",
       "      <td>0.010536</td>\n",
       "      <td>0.077585</td>\n",
       "      <td>0.000000</td>\n",
       "      <td>0.000000</td>\n",
       "      <td>0.00000</td>\n",
       "      <td>0.000000</td>\n",
       "      <td>0.899623</td>\n",
       "    </tr>\n",
       "    <tr>\n",
       "      <th>speed</th>\n",
       "      <td>1892.0</td>\n",
       "      <td>18.851647</td>\n",
       "      <td>3.496073</td>\n",
       "      <td>4.801353</td>\n",
       "      <td>16.486313</td>\n",
       "      <td>18.70069</td>\n",
       "      <td>21.247120</td>\n",
       "      <td>29.226190</td>\n",
       "    </tr>\n",
       "  </tbody>\n",
       "</table>\n",
       "</div>"
      ],
      "text/plain": [
       "           count       mean       std       min        25%       50%  \\\n",
       "steering  1892.0  -0.002504  0.373451 -0.919362  -0.274041   0.00000   \n",
       "throttle  1892.0   0.214573  0.325870  0.000000   0.000000   0.00000   \n",
       "brake     1892.0   0.010536  0.077585  0.000000   0.000000   0.00000   \n",
       "speed     1892.0  18.851647  3.496073  4.801353  16.486313  18.70069   \n",
       "\n",
       "                75%        max  \n",
       "steering   0.304981   0.976823  \n",
       "throttle   0.396757   1.000000  \n",
       "brake      0.000000   0.899623  \n",
       "speed     21.247120  29.226190  "
      ]
     },
     "execution_count": 28,
     "metadata": {},
     "output_type": "execute_result"
    }
   ],
   "source": [
    "df4_summary = df4.describe().transpose()\n",
    "df4_summary_cols = df4_summary.index\n",
    "print(df4_summary_cols)\n",
    "df4_summary"
   ]
  },
  {
   "cell_type": "code",
   "execution_count": 29,
   "metadata": {
    "collapsed": false,
    "deletable": true,
    "editable": true
   },
   "outputs": [
    {
     "data": {
      "text/plain": [
       "<matplotlib.axes._subplots.AxesSubplot at 0x7f20b1bca438>"
      ]
     },
     "execution_count": 29,
     "metadata": {},
     "output_type": "execute_result"
    },
    {
     "data": {
      "image/png": "[encoded data removed]",
      "text/plain": [
       "<matplotlib.figure.Figure at 0x7f20b4233ac8>"
      ]
     },
     "metadata": {},
     "output_type": "display_data"
    }
   ],
   "source": [
    "df4.plot(kind='box')"
   ]
  },
  {
   "cell_type": "code",
   "execution_count": 30,
   "metadata": {
    "collapsed": false,
    "deletable": true,
    "editable": true,
    "scrolled": false
   },
   "outputs": [
    {
     "data": {
      "image/png": "[encoded data removed]",
      "text/plain": [
       "<matplotlib.figure.Figure at 0x7f20b4082e10>"
      ]
     },
     "metadata": {},
     "output_type": "display_data"
    }
   ],
   "source": [
    "# normalise data\n",
    "df4_norm = normalize(df4[df4_summary_cols][:])\n",
    "\n",
    "# put into dataframe for easy charting\n",
    "df4_norm = pd.DataFrame(df4_norm, columns=df4_summary_cols)\n",
    "\n",
    "# drop columns with zero mean and zero std.dev\n",
    "df4_norm = df3_norm.loc[:, (df4_norm.mean() != 0.) & (df4_norm.std() != 0.)]\n",
    "\n",
    "# plot kde\n",
    "df4_norm.plot(kind='kde', \n",
    "              subplots=True, \n",
    "              figsize=(10, 5))\n",
    "plt.tight_layout()"
   ]
  },
  {
   "cell_type": "markdown",
   "metadata": {
    "deletable": true,
    "editable": true
   },
   "source": [
    "## Sim Track 2: Direction=Reverse"
   ]
  },
  {
   "cell_type": "code",
   "execution_count": 31,
   "metadata": {
    "collapsed": true,
    "deletable": true,
    "editable": true
   },
   "outputs": [],
   "source": [
    "df5 = pd.read_csv('../data/raw/sim_track_2_direction_reverse/driving_log.csv', \n",
    "                  header=None, \n",
    "                  names=columns)"
   ]
  },
  {
   "cell_type": "code",
   "execution_count": 32,
   "metadata": {
    "collapsed": false,
    "deletable": true,
    "editable": true
   },
   "outputs": [
    {
     "data": {
      "text/plain": [
       "1412"
      ]
     },
     "execution_count": 32,
     "metadata": {},
     "output_type": "execute_result"
    }
   ],
   "source": [
    "df5_count = len(df5)\n",
    "df5_count"
   ]
  },
  {
   "cell_type": "code",
   "execution_count": 33,
   "metadata": {
    "collapsed": false,
    "deletable": true,
    "editable": true
   },
   "outputs": [
    {
     "name": "stdout",
     "output_type": "stream",
     "text": [
      "<class 'pandas.core.frame.DataFrame'>\n",
      "RangeIndex: 1412 entries, 0 to 1411\n",
      "Data columns (total 7 columns):\n",
      "center      1412 non-null object\n",
      "left        1412 non-null object\n",
      "right       1412 non-null object\n",
      "steering    1412 non-null float64\n",
      "throttle    1412 non-null float64\n",
      "brake       1412 non-null float64\n",
      "speed       1412 non-null float64\n",
      "dtypes: float64(4), object(3)\n",
      "memory usage: 77.3+ KB\n"
     ]
    }
   ],
   "source": [
    "df5.info()"
   ]
  },
  {
   "cell_type": "code",
   "execution_count": 34,
   "metadata": {
    "collapsed": false,
    "deletable": true,
    "editable": true
   },
   "outputs": [
    {
     "data": {
      "text/html": [
       "<div>\n",
       "<table border=\"1\" class=\"dataframe\">\n",
       "  <thead>\n",
       "    <tr style=\"text-align: right;\">\n",
       "      <th></th>\n",
       "      <th>center</th>\n",
       "      <th>left</th>\n",
       "      <th>right</th>\n",
       "      <th>steering</th>\n",
       "      <th>throttle</th>\n",
       "      <th>brake</th>\n",
       "      <th>speed</th>\n",
       "    </tr>\n",
       "  </thead>\n",
       "  <tbody>\n",
       "    <tr>\n",
       "      <th>0</th>\n",
       "      <td>/home/adrian/repos/udacity_carnd/project_3/dat...</td>\n",
       "      <td>/home/adrian/repos/udacity_carnd/project_3/dat...</td>\n",
       "      <td>/home/adrian/repos/udacity_carnd/project_3/dat...</td>\n",
       "      <td>-0.00442</td>\n",
       "      <td>0.0</td>\n",
       "      <td>0.0</td>\n",
       "      <td>5.568658</td>\n",
       "    </tr>\n",
       "    <tr>\n",
       "      <th>1</th>\n",
       "      <td>/home/adrian/repos/udacity_carnd/project_3/dat...</td>\n",
       "      <td>/home/adrian/repos/udacity_carnd/project_3/dat...</td>\n",
       "      <td>/home/adrian/repos/udacity_carnd/project_3/dat...</td>\n",
       "      <td>-0.00442</td>\n",
       "      <td>0.0</td>\n",
       "      <td>0.0</td>\n",
       "      <td>5.375051</td>\n",
       "    </tr>\n",
       "    <tr>\n",
       "      <th>2</th>\n",
       "      <td>/home/adrian/repos/udacity_carnd/project_3/dat...</td>\n",
       "      <td>/home/adrian/repos/udacity_carnd/project_3/dat...</td>\n",
       "      <td>/home/adrian/repos/udacity_carnd/project_3/dat...</td>\n",
       "      <td>-0.00442</td>\n",
       "      <td>0.0</td>\n",
       "      <td>0.0</td>\n",
       "      <td>4.923551</td>\n",
       "    </tr>\n",
       "    <tr>\n",
       "      <th>3</th>\n",
       "      <td>/home/adrian/repos/udacity_carnd/project_3/dat...</td>\n",
       "      <td>/home/adrian/repos/udacity_carnd/project_3/dat...</td>\n",
       "      <td>/home/adrian/repos/udacity_carnd/project_3/dat...</td>\n",
       "      <td>-0.00442</td>\n",
       "      <td>0.0</td>\n",
       "      <td>0.0</td>\n",
       "      <td>4.642110</td>\n",
       "    </tr>\n",
       "    <tr>\n",
       "      <th>4</th>\n",
       "      <td>/home/adrian/repos/udacity_carnd/project_3/dat...</td>\n",
       "      <td>/home/adrian/repos/udacity_carnd/project_3/dat...</td>\n",
       "      <td>/home/adrian/repos/udacity_carnd/project_3/dat...</td>\n",
       "      <td>-0.00884</td>\n",
       "      <td>0.0</td>\n",
       "      <td>0.0</td>\n",
       "      <td>4.699109</td>\n",
       "    </tr>\n",
       "  </tbody>\n",
       "</table>\n",
       "</div>"
      ],
      "text/plain": [
       "                                              center  \\\n",
       "0  /home/adrian/repos/udacity_carnd/project_3/dat...   \n",
       "1  /home/adrian/repos/udacity_carnd/project_3/dat...   \n",
       "2  /home/adrian/repos/udacity_carnd/project_3/dat...   \n",
       "3  /home/adrian/repos/udacity_carnd/project_3/dat...   \n",
       "4  /home/adrian/repos/udacity_carnd/project_3/dat...   \n",
       "\n",
       "                                                left  \\\n",
       "0  /home/adrian/repos/udacity_carnd/project_3/dat...   \n",
       "1  /home/adrian/repos/udacity_carnd/project_3/dat...   \n",
       "2  /home/adrian/repos/udacity_carnd/project_3/dat...   \n",
       "3  /home/adrian/repos/udacity_carnd/project_3/dat...   \n",
       "4  /home/adrian/repos/udacity_carnd/project_3/dat...   \n",
       "\n",
       "                                               right  steering  throttle  \\\n",
       "0  /home/adrian/repos/udacity_carnd/project_3/dat...  -0.00442       0.0   \n",
       "1  /home/adrian/repos/udacity_carnd/project_3/dat...  -0.00442       0.0   \n",
       "2  /home/adrian/repos/udacity_carnd/project_3/dat...  -0.00442       0.0   \n",
       "3  /home/adrian/repos/udacity_carnd/project_3/dat...  -0.00442       0.0   \n",
       "4  /home/adrian/repos/udacity_carnd/project_3/dat...  -0.00884       0.0   \n",
       "\n",
       "   brake     speed  \n",
       "0    0.0  5.568658  \n",
       "1    0.0  5.375051  \n",
       "2    0.0  4.923551  \n",
       "3    0.0  4.642110  \n",
       "4    0.0  4.699109  "
      ]
     },
     "execution_count": 34,
     "metadata": {},
     "output_type": "execute_result"
    }
   ],
   "source": [
    "df5.head()"
   ]
  },
  {
   "cell_type": "code",
   "execution_count": 35,
   "metadata": {
    "collapsed": false,
    "deletable": true,
    "editable": true
   },
   "outputs": [
    {
     "name": "stdout",
     "output_type": "stream",
     "text": [
      "Index(['steering', 'throttle', 'brake', 'speed'], dtype='object')\n"
     ]
    },
    {
     "data": {
      "text/html": [
       "<div>\n",
       "<table border=\"1\" class=\"dataframe\">\n",
       "  <thead>\n",
       "    <tr style=\"text-align: right;\">\n",
       "      <th></th>\n",
       "      <th>count</th>\n",
       "      <th>mean</th>\n",
       "      <th>std</th>\n",
       "      <th>min</th>\n",
       "      <th>25%</th>\n",
       "      <th>50%</th>\n",
       "      <th>75%</th>\n",
       "      <th>max</th>\n",
       "    </tr>\n",
       "  </thead>\n",
       "  <tbody>\n",
       "    <tr>\n",
       "      <th>steering</th>\n",
       "      <td>1412.0</td>\n",
       "      <td>0.015294</td>\n",
       "      <td>0.362561</td>\n",
       "      <td>-0.897262</td>\n",
       "      <td>-0.247521</td>\n",
       "      <td>-0.004420</td>\n",
       "      <td>0.243101</td>\n",
       "      <td>1.0000</td>\n",
       "    </tr>\n",
       "    <tr>\n",
       "      <th>throttle</th>\n",
       "      <td>1412.0</td>\n",
       "      <td>0.387864</td>\n",
       "      <td>0.423225</td>\n",
       "      <td>0.000000</td>\n",
       "      <td>0.000000</td>\n",
       "      <td>0.199036</td>\n",
       "      <td>0.899443</td>\n",
       "      <td>1.0000</td>\n",
       "    </tr>\n",
       "    <tr>\n",
       "      <th>brake</th>\n",
       "      <td>1412.0</td>\n",
       "      <td>0.009480</td>\n",
       "      <td>0.089355</td>\n",
       "      <td>0.000000</td>\n",
       "      <td>0.000000</td>\n",
       "      <td>0.000000</td>\n",
       "      <td>0.000000</td>\n",
       "      <td>1.0000</td>\n",
       "    </tr>\n",
       "    <tr>\n",
       "      <th>speed</th>\n",
       "      <td>1412.0</td>\n",
       "      <td>25.577544</td>\n",
       "      <td>4.556767</td>\n",
       "      <td>4.642110</td>\n",
       "      <td>23.114522</td>\n",
       "      <td>26.575425</td>\n",
       "      <td>29.269093</td>\n",
       "      <td>30.4765</td>\n",
       "    </tr>\n",
       "  </tbody>\n",
       "</table>\n",
       "</div>"
      ],
      "text/plain": [
       "           count       mean       std       min        25%        50%  \\\n",
       "steering  1412.0   0.015294  0.362561 -0.897262  -0.247521  -0.004420   \n",
       "throttle  1412.0   0.387864  0.423225  0.000000   0.000000   0.199036   \n",
       "brake     1412.0   0.009480  0.089355  0.000000   0.000000   0.000000   \n",
       "speed     1412.0  25.577544  4.556767  4.642110  23.114522  26.575425   \n",
       "\n",
       "                75%      max  \n",
       "steering   0.243101   1.0000  \n",
       "throttle   0.899443   1.0000  \n",
       "brake      0.000000   1.0000  \n",
       "speed     29.269093  30.4765  "
      ]
     },
     "execution_count": 35,
     "metadata": {},
     "output_type": "execute_result"
    }
   ],
   "source": [
    "df5_summary = df5.describe().transpose()\n",
    "df5_summary_cols = df5_summary.index\n",
    "print(df5_summary_cols)\n",
    "df5_summary"
   ]
  },
  {
   "cell_type": "code",
   "execution_count": 36,
   "metadata": {
    "collapsed": false,
    "deletable": true,
    "editable": true
   },
   "outputs": [
    {
     "data": {
      "text/plain": [
       "<matplotlib.axes._subplots.AxesSubplot at 0x7f20b18a05f8>"
      ]
     },
     "execution_count": 36,
     "metadata": {},
     "output_type": "execute_result"
    },
    {
     "data": {
      "image/png": "[encoded data removed]",
      "text/plain": [
       "<matplotlib.figure.Figure at 0x7f20b424cc18>"
      ]
     },
     "metadata": {},
     "output_type": "display_data"
    }
   ],
   "source": [
    "df5.plot(kind='box')"
   ]
  },
  {
   "cell_type": "code",
   "execution_count": 37,
   "metadata": {
    "collapsed": false,
    "deletable": true,
    "editable": true,
    "scrolled": false
   },
   "outputs": [
    {
     "data": {
      "image/png": "[encoded data removed]",
      "text/plain": [
       "<matplotlib.figure.Figure at 0x7f20b179bcc0>"
      ]
     },
     "metadata": {},
     "output_type": "display_data"
    }
   ],
   "source": [
    "# normalise data\n",
    "df5_norm = normalize(df5[df5_summary_cols][:])\n",
    "\n",
    "# put into dataframe for easy charting\n",
    "df5_norm = pd.DataFrame(df5_norm, columns=df5_summary_cols)\n",
    "\n",
    "# drop columns with zero mean and zero std.dev\n",
    "df5_norm = df5_norm.loc[:, (df5_norm.mean() != 0.) & (df5_norm.std() != 0.)]\n",
    "\n",
    "# plot kde\n",
    "df5_norm.plot(kind='kde', \n",
    "              subplots=True, \n",
    "              figsize=(10, 5))\n",
    "plt.tight_layout()"
   ]
  },
  {
   "cell_type": "markdown",
   "metadata": {
    "deletable": true,
    "editable": true
   },
   "source": [
    "# Summary"
   ]
  },
  {
   "cell_type": "code",
   "execution_count": 38,
   "metadata": {
    "collapsed": false,
    "deletable": true,
    "editable": true
   },
   "outputs": [
    {
     "name": "stdout",
     "output_type": "stream",
     "text": [
      "source\t\t\t\t\t     n\t  total\t       %\n",
      "====================================     =====   ======\t  ======\n",
      "\n",
      "sample: total \t\t\t\t 8,036\t\t   46.4%\n",
      "----------------------------------------------------------------\n",
      "\n",
      "sim track 1: direction=default \t\t 2,719\n",
      "sim track 1: direction=reverse \t\t 2,568\n",
      "sim track 1: total \t\t\t\t  5,287\t   30.6%\n",
      "----------------------------------------------------------------\n",
      "\n",
      "sim track 2: direction=default \t\t 2,568\n",
      "sim track 2: direction=reverse \t\t 1,412\n",
      "sim track 2: total \t\t\t\t  3,980\t   23.0%\n",
      "----------------------------------------------------------------\n",
      "\n",
      "totals (x3 for centre + left + right)\t\t 17,303\t  100.0%\n",
      "================================================================\n"
     ]
    }
   ],
   "source": [
    "track_1_count = df2_count + df3_count\n",
    "track_2_count = df4_count + df5_count\n",
    "total_count = df1_count + df2_count + df3_count + df4_count + df5_count\n",
    "\n",
    "print('source\\t\\t\\t\\t\\t     n\\t  total\\t       %')\n",
    "print('====================================     =====   ======\\t  ======\\n')\n",
    "print('sample: total \\t\\t\\t\\t{:>6,}\\t\\t  {:>5.3}%'.format(df1_count, \n",
    "                                                           (df1_count / total_count) * 100))\n",
    "print('----------------------------------------------------------------\\n')\n",
    "print('sim track 1: direction=default \\t\\t{:>6,}'.format(df2_count))\n",
    "print('sim track 1: direction=reverse \\t\\t{:>6,}'.format(df3_count))\n",
    "print('sim track 1: total \\t\\t\\t\\t {:>6,}\\t  {:>5.3}%'.format(track_1_count, \n",
    "                                                             (track_1_count / total_count) * 100))\n",
    "print('----------------------------------------------------------------\\n')\n",
    "print('sim track 2: direction=default \\t\\t{:>6,}'.format(df4_count))\n",
    "print('sim track 2: direction=reverse \\t\\t{:>6,}'.format(df5_count))\n",
    "print('sim track 2: total \\t\\t\\t\\t {:>6,}\\t  {:>5.3}%'.format(track_2_count, \n",
    "                                                    (track_2_count / total_count) * 100))\n",
    "print('----------------------------------------------------------------\\n')\n",
    "print('totals (x3 for centre + left + right)\\t\\t {:>6,}\\t  100.0%'.format(total_count))\n",
    "print('================================================================')"
   ]
  }
 ],
 "metadata": {
  "kernelspec": {
   "display_name": "Python 3",
   "language": "python",
   "name": "python3"
  },
  "language_info": {
   "codemirror_mode": {
    "name": "ipython",
    "version": 3
   },
   "file_extension": ".py",
   "mimetype": "text/x-python",
   "name": "python",
   "nbconvert_exporter": "python",
   "pygments_lexer": "ipython3",
   "version": "3.5.2"
  },
  "widgets": {
   "state": {},
   "version": "1.1.2"
  }
 },
 "nbformat": 4,
 "nbformat_minor": 2
}
