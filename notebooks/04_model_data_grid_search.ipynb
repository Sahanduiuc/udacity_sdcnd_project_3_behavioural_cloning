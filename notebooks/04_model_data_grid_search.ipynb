{
 "cells": [
  {
   "cell_type": "markdown",
   "metadata": {},
   "source": [
    "# Preprocess data"
   ]
  },
  {
   "cell_type": "code",
   "execution_count": 1,
   "metadata": {
    "ExecuteTime": {
     "end_time": "2017-05-30T10:02:38.491677Z",
     "start_time": "2017-05-30T10:02:34.409020Z"
    },
    "collapsed": true
   },
   "outputs": [],
   "source": [
    "import csv\n",
    "import cv2\n",
    "import gzip\n",
    "import matplotlib.pyplot as plt\n",
    "import numpy as np\n",
    "import os\n",
    "import random\n",
    "\n",
    "from datetime import datetime\n",
    "from os.path import expanduser\n",
    "from sklearn.model_selection import train_test_split\n",
    "from sklearn.utils import shuffle\n",
    "from tqdm import tqdm_notebook\n",
    "\n",
    "home_path = expanduser(\"~\")"
   ]
  },
  {
   "cell_type": "code",
   "execution_count": null,
   "metadata": {
    "ExecuteTime": {
     "end_time": "2017-05-30T12:14:08.070252Z",
     "start_time": "2017-05-30T12:02:14.261Z"
    },
    "collapsed": true
   },
   "outputs": [],
   "source": [
    "line"
   ]
  },
  {
   "cell_type": "code",
   "execution_count": 66,
   "metadata": {
    "ExecuteTime": {
     "end_time": "2017-05-30T12:23:37.027573Z",
     "start_time": "2017-05-30T12:23:36.827884Z"
    }
   },
   "outputs": [],
   "source": [
    "def data_generator(samples, shape, batch_size, correction, sensitivity, \n",
    "                   angle_threshold):\n",
    "    num_samples = len(samples)\n",
    "    rows, cols, ch = shape\n",
    "    factors = [0, 1, -1]\n",
    "    \n",
    "    samples = shuffle(samples)\n",
    "    while True:\n",
    "        for offset in range(0, num_samples, batch_size):\n",
    "            batch_samples = samples[offset:offset + batch_size]\n",
    "\n",
    "            X = []\n",
    "            y = []\n",
    "            for i, sample in enumerate(batch_samples):\n",
    "                # get steering angle\n",
    "                angle = float(sample[3])\n",
    "                \n",
    "                # camera selection\n",
    "                #  -> drop near-0 angle data with probability\n",
    "                #  -> [0, 1, 2] = [center, left, right]\n",
    "                if abs(angle) < angle_threshold and np.random.random() < 0.5: #0.7\n",
    "                    camera = np.random.choice([1, 2])\n",
    "                else:\n",
    "                    camera = np.random.choice([0, 1, 2])\n",
    "                \n",
    "                adjustment = np.random.uniform(correction-sensitivity, correction)\n",
    "                \n",
    "                # adjust angle if needed\n",
    "                # -> factors[0, 1, -1] = [center, left, right]\n",
    "                angle += (factors[camera] * adjustment)\n",
    "\n",
    "                # read image\n",
    "                img_path = '../' + sample[camera]\n",
    "                img = cv2.imread(img_path)\n",
    "                img = cv2.cvtColor(img, cv2.COLOR_BGR2RGB)\n",
    "\n",
    "\n",
    "                # randomly choose to flip\n",
    "                if np.random.random() < 0.5:\n",
    "                    img = np.fliplr(img)\n",
    "                    angle *= -1\n",
    "                \n",
    "                # randomly amend brightness\n",
    "                # https://discussions.udacity.com/t/still-having-some-issues-with-project-behavioral-cloning-any-advice/234354/45\n",
    "                if np.random.random() < 0.5:\n",
    "                    random_bright = .25 + np.random.uniform()\n",
    "                    \n",
    "                    img = cv2.cvtColor(img, cv2.COLOR_RGB2HSV)\n",
    "                    img[:,:,2] = img[:,:,2] * random_bright\n",
    "                    img = cv2.cvtColor(img, cv2.COLOR_HSV2RGB)\n",
    "                    img = np.clip(img, 0, 255)\n",
    "                \n",
    "                X.append(img)\n",
    "                y.append(angle)\n",
    "\n",
    "            yield shuffle(np.array(X), np.array(y))"
   ]
  },
  {
   "cell_type": "code",
   "execution_count": 3,
   "metadata": {
    "ExecuteTime": {
     "end_time": "2017-05-30T10:02:39.130220Z",
     "start_time": "2017-05-30T10:02:38.645954Z"
    },
    "collapsed": true
   },
   "outputs": [],
   "source": [
    "# read in driving log\n",
    "samples = []\n",
    "with open('../data/interim/img/driving_log.csv') as csvfile:\n",
    "    reader = csv.reader(csvfile)\n",
    "    for line in reader:\n",
    "        samples.append(line)\n",
    "\n",
    "# drop header\n",
    "samples = samples[1:-1]\n",
    "\n",
    "# allow the samples list to be looped through multiple times\n",
    "# due to randomness in the generator, different images should be\n",
    "# seen when the same row is looked at again\n",
    "samples *= 2"
   ]
  },
  {
   "cell_type": "code",
   "execution_count": 78,
   "metadata": {
    "ExecuteTime": {
     "end_time": "2017-05-30T12:31:05.119306Z",
     "start_time": "2017-05-30T12:30:01.971449Z"
    }
   },
   "outputs": [
    {
     "name": "stdout",
     "output_type": "stream",
     "text": [
      "epochs to test generator: 3325\n",
      "x shape = (10, 160, 320, 3)\n",
      "y shape = (10,)\n",
      "[ 0.20630332  0.28305531 -0.19431204  0.01326017  0.09243979 -0.26431777\n",
      " -0.23563756  0.16179005  0.7248819  -0.09393067]\n",
      "0.206303320952\n"
     ]
    },
    {
     "data": {
      "image/png": "[encoded data removed]",
      "text/plain": [
       "<matplotlib.figure.Figure at 0x7ff0c3322160>"
      ]
     },
     "metadata": {},
     "output_type": "display_data"
    },
    {
     "name": "stdout",
     "output_type": "stream",
     "text": [
      "\n",
      "33250\n"
     ]
    },
    {
     "data": {
      "image/png": "[encoded data removed]",
      "text/plain": [
       "<matplotlib.figure.Figure at 0x7ff0c2d8c438>"
      ]
     },
     "metadata": {},
     "output_type": "display_data"
    },
    {
     "name": "stdout",
     "output_type": "stream",
     "text": [
      "CPU times: user 1min, sys: 1.5 s, total: 1min 1s\n",
      "Wall time: 1min 3s\n"
     ]
    }
   ],
   "source": [
    "def test_gen():\n",
    "    test_gen_batch_size = 10\n",
    "    test_gen_samples = len(samples)\n",
    "    test_gen_epochs = test_gen_samples // test_gen_batch_size\n",
    "    print('epochs to test generator: {}'.format(test_gen_epochs))\n",
    "    \n",
    "    test_generator = data_generator(\n",
    "        samples, \n",
    "        shape=(160,320,3), \n",
    "        batch_size=test_gen_batch_size, \n",
    "        correction=0.2,\n",
    "        sensitivity=0.05,\n",
    "        angle_threshold=0.85)\n",
    "    \n",
    "    plt.ion()\n",
    "    angles = []\n",
    "    for i in tqdm_notebook(range(test_gen_epochs)):\n",
    "        X_gen_batch, y_gen_batch = next(test_generator)\n",
    "\n",
    "        # ensure images are coming through properly\n",
    "        if i == 1:\n",
    "            print('x shape = {}\\ny shape = {}'.format(X_gen_batch.shape, y_gen_batch.shape))\n",
    "            print(y_gen_batch)\n",
    "            print(y_gen_batch[0])\n",
    "            plt.imshow(X_gen_batch[0])\n",
    "            plt.show()\n",
    "\n",
    "        # keep angles, will review in histogram to see distribution\n",
    "        angles.extend(y_gen_batch)\n",
    "    \n",
    "    print(len(angles))\n",
    "    plt.hist(angles, bins=50)\n",
    "    plt.show()\n",
    "    \n",
    "    \n",
    "%time test_gen()"
   ]
  },
  {
   "cell_type": "markdown",
   "metadata": {},
   "source": [
    "# Keras modelling"
   ]
  },
  {
   "cell_type": "code",
   "execution_count": 58,
   "metadata": {
    "ExecuteTime": {
     "end_time": "2017-05-30T12:01:36.664340Z",
     "start_time": "2017-05-30T12:01:36.633839Z"
    },
    "scrolled": true
   },
   "outputs": [],
   "source": [
    "import itertools\n",
    "\n",
    "from contextlib import redirect_stdout\n",
    "\n",
    "from keras.callbacks import TensorBoard, ModelCheckpoint\n",
    "from keras.layers import (\n",
    "    Lambda, Cropping2D, Flatten, Dense, \n",
    "    SpatialDropout2D, )\n",
    "from keras.layers.convolutional import Convolution2D\n",
    "from keras.layers.pooling import AveragePooling2D, MaxPooling2D\n",
    "from keras.models import Sequential\n",
    "from keras.optimizers import Adam"
   ]
  },
  {
   "cell_type": "code",
   "execution_count": 85,
   "metadata": {
    "ExecuteTime": {
     "end_time": "2017-05-30T13:01:24.084847Z",
     "start_time": "2017-05-30T13:01:24.000318Z"
    },
    "collapsed": true,
    "scrolled": false
   },
   "outputs": [],
   "source": [
    "def build_model(input_shape, dropout):\n",
    "    # model architecture based on\n",
    "    # -> https://arxiv.org/pdf/1604.07316.pdf\n",
    "    model = Sequential()\n",
    "\n",
    "    # region of interest\n",
    "    # Cropping2D((pixels_to_remove_from_top, from_bottom), (0, 0))\n",
    "    model.add(Cropping2D(cropping=((60, 20), (0, 0)), input_shape=input_shape))\n",
    "    \n",
    "    # resize using average pooling\n",
    "    # Keras 1.2.1 stride defaults to pool_size when no args are provided\n",
    "    model.add(AveragePooling2D(pool_size=(2, 2)))\n",
    "\n",
    "    # normalisation\n",
    "    model.add(Lambda(lambda x: x / 255.0 - 0.5))\n",
    "\n",
    "    # Convolution2D(filters, kernel, stride)\n",
    "    model.add(Convolution2D(6, 5, 5, subsample=(2, 2), activation='relu', name='conv_1'))\n",
    "#     model.add(SpatialDropout2D(dropout))\n",
    "    model.add(Convolution2D(12, 5, 5, subsample=(2, 2), activation='relu', name='conv_2'))\n",
    "#     model.add(SpatialDropout2D(dropout))\n",
    "    model.add(Convolution2D(48, 5, 5, subsample=(2, 2), activation='relu', name='conv_3'))\n",
    "    model.add(SpatialDropout2D(dropout))\n",
    "\n",
    "    # flatten\n",
    "    model.add(Flatten(name='flatten'))\n",
    "\n",
    "    # fully connected\n",
    "    model.add(Dense(100, name='fc_1'))\n",
    "    model.add(Dense(50, name='fc_2'))\n",
    "    model.add(Dense(10, name='fc_3'))\n",
    "\n",
    "    # output\n",
    "    model.add(Dense(1, name='output'))\n",
    "\n",
    "    # get model ready to run\n",
    "    model.compile(optimizer=Adam(lr=1e-04), loss='mean_squared_error')\n",
    "    \n",
    "    return model"
   ]
  },
  {
   "cell_type": "code",
   "execution_count": 86,
   "metadata": {
    "ExecuteTime": {
     "end_time": "2017-05-30T13:01:34.193483Z",
     "start_time": "2017-05-30T13:01:34.144935Z"
    }
   },
   "outputs": [
    {
     "name": "stdout",
     "output_type": "stream",
     "text": [
      "grid space: 1\n",
      "epochs: [10]\n",
      "batch_sizes: [10]\n",
      "dropout: [0.15]\n",
      "corrections: [0.175]\n",
      "sensitivity: [0.075]\n",
      "angle_threshold: [0.85]\n"
     ]
    }
   ],
   "source": [
    "# model hyper-parameters\n",
    "epochs = [10,]\n",
    "batch_sizes = [10,]\n",
    "dropout = [0.15,]\n",
    "\n",
    "# camera hyper-parameters\n",
    "corrections = [0.175,]\n",
    "sensitivity = [0.075,]\n",
    "angle_threshold = [0.85, ]\n",
    "\n",
    "# set known image attributes\n",
    "input_shape = (160, 320, 3)\n",
    "\n",
    "# build grid\n",
    "hyperparameters = [epochs, batch_sizes, dropout, corrections, sensitivity, angle_threshold]\n",
    "grid = list(itertools.product(*hyperparameters))\n",
    "\n",
    "# debug\n",
    "print('grid space: {}'.format(len(grid)))\n",
    "print('epochs: {}'.format(epochs))\n",
    "print('batch_sizes: {}'.format(batch_sizes))\n",
    "print('dropout: {}'.format(dropout))\n",
    "print('corrections: {}'.format(corrections))\n",
    "print('sensitivity: {}'.format(sensitivity))\n",
    "print('angle_threshold: {}'.format(angle_threshold))\n"
   ]
  },
  {
   "cell_type": "code",
   "execution_count": 87,
   "metadata": {
    "ExecuteTime": {
     "end_time": "2017-05-30T13:21:36.799403Z",
     "start_time": "2017-05-30T13:01:36.120525Z"
    },
    "scrolled": true
   },
   "outputs": [
    {
     "name": "stdout",
     "output_type": "stream",
     "text": [
      "/home/adrian/repos/udacity_carnd/project_3/log/20170530_230136_10_10_015_0175_0075_085\n",
      "/home/adrian/repos/udacity_carnd/project_3/model/20170530_230136_10_10_015_0175_0075_085\n",
      "Epoch 1/10\n",
      "23276/23276 [==============================] - 97s - loss: 0.0324 - val_loss: 0.0267\n",
      "Epoch 2/10\n",
      "23276/23276 [==============================] - 100s - loss: 0.0254 - val_loss: 0.0248\n",
      "Epoch 3/10\n",
      "23276/23276 [==============================] - 116s - loss: 0.0232 - val_loss: 0.0214\n",
      "Epoch 4/10\n",
      "23276/23276 [==============================] - 136s - loss: 0.0219 - val_loss: 0.0212\n",
      "Epoch 5/10\n",
      "23276/23276 [==============================] - 111s - loss: 0.0206 - val_loss: 0.0200\n",
      "Epoch 6/10\n",
      "23276/23276 [==============================] - 130s - loss: 0.0200 - val_loss: 0.0198\n",
      "Epoch 7/10\n",
      "23276/23276 [==============================] - 113s - loss: 0.0195 - val_loss: 0.0189\n",
      "Epoch 8/10\n",
      "23276/23276 [==============================] - 114s - loss: 0.0188 - val_loss: 0.0182\n",
      "Epoch 9/10\n",
      "23276/23276 [==============================] - 111s - loss: 0.0187 - val_loss: 0.0181\n",
      "Epoch 10/10\n",
      "23276/23276 [==============================] - 166s - loss: 0.0181 - val_loss: 0.0173\n"
     ]
    },
    {
     "data": {
      "image/png": "[encoded data removed]",
      "text/plain": [
       "<matplotlib.figure.Figure at 0x7ff0c2461d30>"
      ]
     },
     "metadata": {},
     "output_type": "display_data"
    }
   ],
   "source": [
    "# perform grid search if multiple choices exist for hyperparameters\n",
    "for hyperparameters in grid:\n",
    "    # set hyperparameters\n",
    "    epochs = hyperparameters[0]\n",
    "    batch_size = hyperparameters[1]\n",
    "    dropout = hyperparameters[2]\n",
    "    correction = hyperparameters[3]\n",
    "    sensitivity = hyperparameters[4]\n",
    "    angle_threshold = hyperparameters[5]\n",
    "    \n",
    "    # build model\n",
    "    model = build_model(input_shape, dropout)\n",
    "\n",
    "    # set train and validate sets\n",
    "    train_samples, validation_samples = train_test_split(samples, test_size=0.3)\n",
    "\n",
    "    # set generator functions\n",
    "    train_generator = data_generator(\n",
    "        train_samples, \n",
    "        shape=input_shape, \n",
    "        batch_size=batch_size,\n",
    "        correction=correction,\n",
    "        sensitivity=sensitivity,\n",
    "        angle_threshold=angle_threshold)\n",
    "\n",
    "    validation_generator = data_generator(\n",
    "        validation_samples,\n",
    "        shape=input_shape,\n",
    "        batch_size=batch_size,\n",
    "        correction=correction,\n",
    "        sensitivity=sensitivity,\n",
    "        angle_threshold=angle_threshold)\n",
    "\n",
    "    # create directories for logging and checkpointing\n",
    "    timestamp = datetime.now().strftime(\"%Y%m%d_%H%M%S\")\n",
    "    run = '_'.join([str(h).replace('.','') for h in hyperparameters])\n",
    "    log_dir = os.path.join(home_path, \n",
    "                           'repos', \n",
    "                           'udacity_carnd', \n",
    "                           'project_3', \n",
    "                           'log', \n",
    "                           '_'.join([timestamp, run]))\n",
    "    model_dir = os.path.join(home_path, \n",
    "                             'repos', \n",
    "                             'udacity_carnd', \n",
    "                             'project_3', \n",
    "                             'model', \n",
    "                             '_'.join([timestamp, run]))\n",
    "    \n",
    "    if not os.path.exists(log_dir):\n",
    "        os.makedirs(log_dir)\n",
    "        print(log_dir)\n",
    "\n",
    "    if not os.path.exists(model_dir):\n",
    "        os.makedirs(model_dir)\n",
    "        print(model_dir)\n",
    "\n",
    "    # get callbacks ready to run\n",
    "    chk = ModelCheckpoint(\n",
    "        filepath=os.path.join(model_dir, 'model_{epoch:02d}_{val_loss:.4f}.h5'),\n",
    "        monitor='val_loss', \n",
    "        verbose=0, \n",
    "        save_best_only=True, \n",
    "        save_weights_only=False, \n",
    "        mode='auto', \n",
    "        period=1)\n",
    "    \n",
    "    callbacks = [chk]\n",
    "\n",
    "    # train the model\n",
    "    history_object = model.fit_generator(\n",
    "        train_generator,\n",
    "        samples_per_epoch=len(train_samples),\n",
    "        validation_data=validation_generator,\n",
    "        nb_val_samples=len(validation_samples),\n",
    "        nb_epoch=epochs,\n",
    "        verbose=1,\n",
    "        callbacks=callbacks)\n",
    "\n",
    "    # save final epoch, as checkpoint callback won't\n",
    "    final_model_name = '_'.join(['model', \n",
    "                                 '{:02d}'.format(epochs), \n",
    "                                 '{:.4f}'.format(history_object.history['val_loss'][-1])]) + '.h5'\n",
    "    final_model_path = os.path.join(model_dir, final_model_name)\n",
    "    model.save(final_model_path)\n",
    "\n",
    "    # plot the training and validation loss for each epoch\n",
    "    f, ax = plt.subplots(figsize=(8, 3))\n",
    "    plt.plot(history_object.history['loss'])\n",
    "    plt.plot(history_object.history['val_loss'])\n",
    "    plt.title('model mean squared error loss')\n",
    "    plt.ylabel('mean squared error loss')\n",
    "    plt.xlabel('epoch')\n",
    "    plt.legend(['training set', 'validation set'], loc='upper right')\n",
    "    f.tight_layout()\n",
    "\n",
    "    # save plot\n",
    "    f.savefig(os.path.join(model_dir, 'epoch_history.png'))\n",
    "                                    \n",
    "    # save model.summary()\n",
    "    # https://stackoverflow.com/a/40984270/893766\n",
    "    with open(os.path.join(model_dir, 'model_summary.txt'), 'w') as f:\n",
    "        with redirect_stdout(f):\n",
    "            model.summary()\n"
   ]
  },
  {
   "cell_type": "code",
   "execution_count": null,
   "metadata": {
    "collapsed": true
   },
   "outputs": [],
   "source": []
  }
 ],
 "metadata": {
  "anaconda-cloud": {},
  "kernelspec": {
   "display_name": "Python 3",
   "language": "python",
   "name": "python3"
  },
  "language_info": {
   "codemirror_mode": {
    "name": "ipython",
    "version": 3
   },
   "file_extension": ".py",
   "mimetype": "text/x-python",
   "name": "python",
   "nbconvert_exporter": "python",
   "pygments_lexer": "ipython3",
   "version": "3.5.2"
  },
  "toc": {
   "colors": {
    "hover_highlight": "#DAA520",
    "running_highlight": "#FF0000",
    "selected_highlight": "#FFD700"
   },
   "moveMenuLeft": true,
   "nav_menu": {
    "height": "48px",
    "width": "252px"
   },
   "navigate_menu": true,
   "number_sections": true,
   "sideBar": true,
   "threshold": 4,
   "toc_cell": false,
   "toc_section_display": "block",
   "toc_window_display": false,
   "widenNotebook": false
  },
  "widgets": {
   "state": {
    "03ebb462604047779f877f03a3abb26f": {
     "views": []
    },
    "048f00bf98764ae09006ce96fc96a232": {
     "views": []
    },
    "0630d0b4ffcd425fbbd87467748a7a1d": {
     "views": []
    },
    "080693d45a774c0a88508887827f5a07": {
     "views": []
    },
    "087f26bb49694a56abb828d65a4dfb58": {
     "views": []
    },
    "0a23dc54275b4dfbb1ccdb906b53d166": {
     "views": []
    },
    "0d2d9614e8d241ee8cee6433bd17d389": {
     "views": []
    },
    "0f9ab833e5d84f148209046932e13a25": {
     "views": []
    },
    "181a72e3b7fd4b91904fa4bf7d10752f": {
     "views": []
    },
    "19169c4c08e34c2892f4af6c42a6493f": {
     "views": []
    },
    "1918d7e2f29e4d0f89cdc69a1e5b1087": {
     "views": []
    },
    "197d05e2e1274cdf8261b54781956c36": {
     "views": []
    },
    "1d3f887a8e4445b397cfccbc211f754c": {
     "views": []
    },
    "1d985891f68c49d786fbd1d56a9bdbb0": {
     "views": []
    },
    "1e11e02a1b3e46189ca4466babad3088": {
     "views": []
    },
    "1e7cb925dea143b5aaebd7d4b8c779b6": {
     "views": []
    },
    "20393e9646624fc3812a1fca3b07e9b8": {
     "views": []
    },
    "20a8a1ad89b74629a533c19cc178d4c6": {
     "views": []
    },
    "2203c255d37b480baf592bccb581c0b8": {
     "views": []
    },
    "222a2c3289f94569a6c25b6fc7df6df1": {
     "views": []
    },
    "229e12a7c7e242298317fae694ae3a05": {
     "views": []
    },
    "24487e1e35b44111a5c07f7f2d9813cb": {
     "views": []
    },
    "255a1a6f71cb45c6bd789c5509498777": {
     "views": []
    },
    "2a1ff5a132644157842ab9a061f593c3": {
     "views": []
    },
    "2a4021139a494d068c789d033ddc3a7b": {
     "views": []
    },
    "2d9dce4977444a0b92a559495fe45cff": {
     "views": []
    },
    "2f2c0a6daf83411eb0966423a616a0ce": {
     "views": []
    },
    "2fe5c5bc37c044b0a31743415f588c9e": {
     "views": []
    },
    "335bedb7133d4d6e9dae27e50ba4f89c": {
     "views": []
    },
    "396d5af3da2b4328a02346c4747bf55d": {
     "views": []
    },
    "3a260fd9210c46e4ba034fd35c5d34ab": {
     "views": []
    },
    "3b0d1d8ccc32400eaa2e39d03e9beca1": {
     "views": []
    },
    "3cb4d4094f9542eab04bacb84fce3fe4": {
     "views": []
    },
    "3cd22f7d29a348e8b2748cf9491fb294": {
     "views": []
    },
    "4077d373a2c345048f9e2867252bc023": {
     "views": []
    },
    "40b0ce4644df4468aa6f98ab7e59b513": {
     "views": []
    },
    "4537898db78d4283b7945532516a2e8a": {
     "views": []
    },
    "47ce5e40727d4152be423cda7fa59c61": {
     "views": []
    },
    "4b0fdccfbab243da9dd6b300228622fc": {
     "views": []
    },
    "4bb8afca1d4d43699dd93d9d9fa2e929": {
     "views": []
    },
    "4e01fa6b3f444e53991313cadd6bc7be": {
     "views": []
    },
    "4ec9da64669442c2b3bead2c7f575e67": {
     "views": []
    },
    "4f9950cd01fc4c9cb1b11852dc8f042a": {
     "views": []
    },
    "518f598deee94443860f4707266823cf": {
     "views": []
    },
    "53c5fe45ba154e7995c00a198c5e7d1e": {
     "views": []
    },
    "55a6ccbf7fec4973b0ecbd44829c968e": {
     "views": []
    },
    "55f84d2b1af64a228009b6d53abd772c": {
     "views": []
    },
    "59dbd9ed7c60457693be723959f2e89f": {
     "views": []
    },
    "5d302facaf424a9ebd382b79c77e4d09": {
     "views": []
    },
    "5eed2e0ca6584919ae21b81519c0fda1": {
     "views": []
    },
    "63b8319745a24b81a7fd15ef9080317d": {
     "views": []
    },
    "63fe078716ec4544b480b16b177da218": {
     "views": []
    },
    "643915f6f5c6430d84a626be5fc20edb": {
     "views": []
    },
    "66064f721dd94090b3111c0a189ed4df": {
     "views": []
    },
    "69ba5ae94e1d41f89e62dc950289f45b": {
     "views": []
    },
    "6c391092bc2c4ae0a75fde4cc2f48c23": {
     "views": []
    },
    "6e71a4bf14e44ed68eb02c3f5a750072": {
     "views": []
    },
    "6ecd74f2666d4a249b9c775220551b5d": {
     "views": []
    },
    "6f3ba3d00b2a4615926095fd5bdf9dbe": {
     "views": []
    },
    "732863f7c47a4ea9acacc8753e5a3e06": {
     "views": []
    },
    "741aa1fff58846f7b78846c4174c327d": {
     "views": []
    },
    "74dcd0fb06274c9abaf58823902fdd5e": {
     "views": []
    },
    "753686454a5e4c3fbfe3fb61de262aae": {
     "views": []
    },
    "75f3b0801e9c499da7217c376c83f3f5": {
     "views": []
    },
    "784b0e352d004ebbbd8112f48b99d082": {
     "views": []
    },
    "7a16753749b747ba8bdd036ca679559d": {
     "views": []
    },
    "7ab2cc8a089746bc80469ba9f41ab03b": {
     "views": []
    },
    "7cf287414dc44602a539a516503923a6": {
     "views": []
    },
    "7ea99263056a4696b0f5071ec7d9d1f6": {
     "views": []
    },
    "8087175156b94774a297fa92643bae1a": {
     "views": []
    },
    "81e805c533904af882d7061cfa58fa70": {
     "views": []
    },
    "82cc58b3b4fd4140a047d952c1681550": {
     "views": []
    },
    "83ce7215a266408f804d7079a410a5bc": {
     "views": []
    },
    "84fdacc101864d4e9e5acd8002cbbf6f": {
     "views": []
    },
    "878a7a68afd843779759097d2688f254": {
     "views": []
    },
    "88c5ec55095c412fab46438105d421de": {
     "views": []
    },
    "8955b0944af94b2dbc30e35365807908": {
     "views": []
    },
    "8a054c59c13445d7a4e70dc4baf56667": {
     "views": []
    },
    "8b75cb11bd434c1ea0b13c8ba23fd958": {
     "views": []
    },
    "8d174c497b4a4dd88001590c2391c165": {
     "views": []
    },
    "8e4ba7edb2d84f99b55830fb010257d9": {
     "views": []
    },
    "92f69b82dc6449169daf0221b82a6dee": {
     "views": []
    },
    "93ccbf4708e247db8a028a15dd69cc6d": {
     "views": []
    },
    "94c526a2df57414985fda8368b14fb49": {
     "views": []
    },
    "98ac16463f1d48bfb26eda0539307067": {
     "views": []
    },
    "9b2b266238b24ca29324508cc475dc76": {
     "views": []
    },
    "9b4286f44cd74946943c3bb628c48639": {
     "views": []
    },
    "9b84e2c34923416d973cff583ea90c8d": {
     "views": []
    },
    "9edce4422c644fc78c861901f8573ea0": {
     "views": []
    },
    "a0ec3874a2e74f34814ffef84127f855": {
     "views": []
    },
    "a2a5fbe3aa884c09a8a1165d097a1cce": {
     "views": []
    },
    "a41e27b1ee42428f9ced26defd4b63e4": {
     "views": []
    },
    "a6381fe94ad5494db78266d0f1b7fc17": {
     "views": []
    },
    "a662b952d7e64076b06f4810c11e7490": {
     "views": []
    },
    "a78d497a0d8c4555b8c5721686c7eef7": {
     "views": []
    },
    "a857b0600f7349d88a8dac97c4d67a08": {
     "views": [
      {
       "cell_index": 5
      }
     ]
    },
    "ab7cb58d33784a88bcd7a8ec9331e40a": {
     "views": []
    },
    "adeee99eaa1d4f29afa27ed3a137ceb3": {
     "views": []
    },
    "ae42b03e29454f49ab751153b781b5f7": {
     "views": []
    },
    "aea89bae2cfc4d44810703984ed96a93": {
     "views": []
    },
    "af3ef9315f384c298b43d63cb14903f4": {
     "views": []
    },
    "afb0f37d6c9343ec9977e4a47db87237": {
     "views": []
    },
    "b0339b6f5635483eaa1e618e674db365": {
     "views": []
    },
    "b1e12b99a07043a389370c6fc1d2dac0": {
     "views": []
    },
    "b78ff861fba8419caa33d6c7570abb00": {
     "views": []
    },
    "b7ee146d4665470da1610050fbb918c9": {
     "views": []
    },
    "b888f01df9384d1894d52e6f3c878777": {
     "views": []
    },
    "ba00fdc230cc4774bb3af711678c8b0d": {
     "views": []
    },
    "ba26fb056f66427f81e1560c979bbdae": {
     "views": []
    },
    "bad41cd3ed35412db0264378a5ea3af0": {
     "views": []
    },
    "baf52b51db3640eba0de994ded4b4f0c": {
     "views": []
    },
    "be252f81378f459a945485d08ec49af4": {
     "views": []
    },
    "c03af9f8ee8e4361a520c67f321b76f9": {
     "views": []
    },
    "c178e77e2dc64d538bac8c1b2ad6fc34": {
     "views": []
    },
    "c1a1427558b241c6b3872b01422728cc": {
     "views": []
    },
    "c539616964c3446588a111d0d7034683": {
     "views": []
    },
    "c7d2a478b7094d0b98113003215cb161": {
     "views": []
    },
    "c96c6178533246848833112163598e15": {
     "views": []
    },
    "cad3c34db5e24cf9905a5a19398469f4": {
     "views": []
    },
    "ccce375672dc4a139e072d1ce931a0ea": {
     "views": []
    },
    "ccd121ae6c9247f8ba03d1faabd6236a": {
     "views": []
    },
    "cd023fbf5897458a881563c5f1a2e967": {
     "views": []
    },
    "d076d9c9bf8f419d862f8744dca78e01": {
     "views": []
    },
    "d0c0aca2b9c04a9390743d46007a30a7": {
     "views": []
    },
    "d134481de2ec46d1ac50765399fa269b": {
     "views": []
    },
    "d52081dd3dc84492a25e40e9b641592b": {
     "views": []
    },
    "d6070a840eae48e4aaed9ad62665318c": {
     "views": []
    },
    "d743b1e653dd4b089236d0ab8ad730f0": {
     "views": []
    },
    "db130f6634354383a532cea0c195bf78": {
     "views": []
    },
    "db1399a364d34efc9d89b796431c716a": {
     "views": []
    },
    "ddde86041f14409c90206581e5eb343c": {
     "views": []
    },
    "defceffe38374470b45e24afd8266d8e": {
     "views": []
    },
    "df6a8fd103b34bda9ac9f0b66006c5d2": {
     "views": []
    },
    "e069fd754383430d9464a74c53538a4e": {
     "views": []
    },
    "e0eea134982f4b8795020ddeaa144373": {
     "views": []
    },
    "e3afcd974d694647adfe771a7fe58d9c": {
     "views": []
    },
    "e7d4e299d9844ba69dc3c97c535d7419": {
     "views": []
    },
    "e834e1d63f1544b5a8d5d26f48756745": {
     "views": []
    },
    "e94a4ac915864c27981326c64ab11cfb": {
     "views": []
    },
    "edb971d526ef496a8880f6f4bbf4a4d6": {
     "views": []
    },
    "f0305d472c2944e3bec65ac55b6e9093": {
     "views": []
    },
    "f286fbb623ab4f25ab20cfa220b81d65": {
     "views": []
    },
    "f2b8f54963db4bfaaf4713be298162e9": {
     "views": []
    },
    "f453ce18ba9f49159a9acb41f61e36ac": {
     "views": []
    },
    "f49982d76e0646cab369dc21397ad0bc": {
     "views": []
    },
    "f5f727fcbf254ea580e4bc34eafa674e": {
     "views": []
    },
    "f807051709ff4bdba4d0379173cf1a85": {
     "views": []
    },
    "f829b646d9e840258281f3dba7a0f2bd": {
     "views": []
    },
    "fb4393be57424a81b160d2c9c3fa595f": {
     "views": []
    },
    "fc340e09e94d4e22a57a5f4a9e15138f": {
     "views": []
    }
   },
   "version": "1.1.2"
  }
 },
 "nbformat": 4,
 "nbformat_minor": 2
}
