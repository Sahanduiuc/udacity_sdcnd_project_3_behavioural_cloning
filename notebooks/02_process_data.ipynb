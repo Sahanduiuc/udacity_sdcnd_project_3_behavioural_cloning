{
 "cells": [
  {
   "cell_type": "code",
   "execution_count": 26,
   "metadata": {
    "collapsed": true
   },
   "outputs": [],
   "source": [
    "%matplotlib inline"
   ]
  },
  {
   "cell_type": "code",
   "execution_count": 24,
   "metadata": {
    "collapsed": false
   },
   "outputs": [],
   "source": [
    "import cv2\n",
    "import gzip\n",
    "import matplotlib.pyplot as plt\n",
    "import pandas as pd\n",
    "import pickle"
   ]
  },
  {
   "cell_type": "code",
   "execution_count": 2,
   "metadata": {
    "collapsed": true
   },
   "outputs": [],
   "source": [
    "def save_zipped_pickle(obj, file_path, protocol=-1):\n",
    "    with gzip.open(file_path, 'wb') as f:\n",
    "        pickle.dump(obj, f, protocol)"
   ]
  },
  {
   "cell_type": "code",
   "execution_count": 21,
   "metadata": {
    "collapsed": true
   },
   "outputs": [],
   "source": [
    "def load_zipped_pickle(file_path):\n",
    "    with gzip.open(file_path, 'rb') as f:\n",
    "        loaded_object = pickle.load(f)\n",
    "        return loaded_object"
   ]
  },
  {
   "cell_type": "code",
   "execution_count": 4,
   "metadata": {
    "collapsed": false
   },
   "outputs": [],
   "source": [
    "def transform_image_path(df, pos):\n",
    "    df.iloc[:, 0] = 'data/interim/' + pos + '/img/' + df.iloc[:, 0].str.split('/').str[-1]\n",
    "    df.rename(columns={df.columns[0]: 'img_path'}, inplace=True)\n",
    "    return df"
   ]
  },
  {
   "cell_type": "code",
   "execution_count": 5,
   "metadata": {
    "collapsed": true
   },
   "outputs": [],
   "source": [
    "logs = [(0, '../data/raw/sample/driving_log.csv'),\n",
    "        (None, '../data/raw/sim_track_1_direction_default/driving_log.csv'),\n",
    "        (None, '../data/raw/sim_track_1_direction_reverse/driving_log.csv'),\n",
    "        (None, '../data/raw/sim_track_2_direction_default/driving_log.csv'),\n",
    "        (None, '../data/raw/sim_track_2_direction_reverse/driving_log.csv')]"
   ]
  },
  {
   "cell_type": "code",
   "execution_count": 6,
   "metadata": {
    "collapsed": true
   },
   "outputs": [],
   "source": [
    "save_folder = '../data/interim'"
   ]
  },
  {
   "cell_type": "code",
   "execution_count": 7,
   "metadata": {
    "collapsed": false
   },
   "outputs": [],
   "source": [
    "!mkdir -p /src/repos/udacity_carnd/project_3/data/interim/center/img\n",
    "!mkdir -p /src/repos/udacity_carnd/project_3/data/interim/left/img\n",
    "!mkdir -p /src/repos/udacity_carnd/project_3/data/interim/right/img"
   ]
  },
  {
   "cell_type": "code",
   "execution_count": 8,
   "metadata": {
    "collapsed": false
   },
   "outputs": [],
   "source": [
    "columns = ['center', 'left', 'right', 'steering', 'throttle', 'brake', 'speed']\n",
    "df = pd.DataFrame(columns=columns)\n",
    "\n",
    "for header, log_path in logs:\n",
    "    df_temp = pd.read_csv(log_path, header=header, names=columns)\n",
    "    \n",
    "    if header == 0:\n",
    "        df_temp.iloc[:, 0] = '/home/adrian/repos/udacity_carnd/project_3/data/raw/sample/' + df_temp.iloc[:, 0]\n",
    "    \n",
    "    df = df.append(df_temp)"
   ]
  },
  {
   "cell_type": "code",
   "execution_count": 9,
   "metadata": {
    "collapsed": false
   },
   "outputs": [
    {
     "data": {
      "text/plain": [
       "5412    /home/adrian/repos/udacity_carnd/project_3/dat...\n",
       "2116    /home/adrian/repos/udacity_carnd/project_3/dat...\n",
       "8       /home/adrian/repos/udacity_carnd/project_3/dat...\n",
       "2682    /home/adrian/repos/udacity_carnd/project_3/dat...\n",
       "317     /home/adrian/repos/udacity_carnd/project_3/dat...\n",
       "637     /home/adrian/repos/udacity_carnd/project_3/dat...\n",
       "1302    /home/adrian/repos/udacity_carnd/project_3/dat...\n",
       "1399    /home/adrian/repos/udacity_carnd/project_3/dat...\n",
       "612     /home/adrian/repos/udacity_carnd/project_3/dat...\n",
       "314     /home/adrian/repos/udacity_carnd/project_3/dat...\n",
       "Name: center, dtype: object"
      ]
     },
     "execution_count": 9,
     "metadata": {},
     "output_type": "execute_result"
    }
   ],
   "source": [
    " df['center'].sample(10)"
   ]
  },
  {
   "cell_type": "code",
   "execution_count": 10,
   "metadata": {
    "collapsed": false
   },
   "outputs": [],
   "source": [
    "df_center = df[['center', 'steering']]\n",
    "df_left = df[['left', 'steering']]\n",
    "df_right = df[['right', 'steering']]"
   ]
  },
  {
   "cell_type": "code",
   "execution_count": 11,
   "metadata": {
    "collapsed": false
   },
   "outputs": [],
   "source": [
    "df_center = transform_image_path(df_center[:], 'center')\n",
    "df_left = transform_image_path(df_left[:], 'left')\n",
    "df_right = transform_image_path(df_right[:], 'right')"
   ]
  },
  {
   "cell_type": "code",
   "execution_count": 12,
   "metadata": {
    "collapsed": false
   },
   "outputs": [
    {
     "data": {
      "text/html": [
       "<div>\n",
       "<table border=\"1\" class=\"dataframe\">\n",
       "  <thead>\n",
       "    <tr style=\"text-align: right;\">\n",
       "      <th></th>\n",
       "      <th>img_path</th>\n",
       "      <th>steering</th>\n",
       "    </tr>\n",
       "  </thead>\n",
       "  <tbody>\n",
       "    <tr>\n",
       "      <th>1466</th>\n",
       "      <td>data/interim/center/img/center_2017_05_18_02_4...</td>\n",
       "      <td>0.198901</td>\n",
       "    </tr>\n",
       "    <tr>\n",
       "      <th>4765</th>\n",
       "      <td>data/interim/center/img/center_2016_12_01_13_4...</td>\n",
       "      <td>-0.211667</td>\n",
       "    </tr>\n",
       "    <tr>\n",
       "      <th>1612</th>\n",
       "      <td>data/interim/center/img/center_2016_12_01_13_3...</td>\n",
       "      <td>-0.287622</td>\n",
       "    </tr>\n",
       "    <tr>\n",
       "      <th>2219</th>\n",
       "      <td>data/interim/center/img/center_2016_12_01_13_3...</td>\n",
       "      <td>0.000000</td>\n",
       "    </tr>\n",
       "    <tr>\n",
       "      <th>881</th>\n",
       "      <td>data/interim/center/img/center_2017_05_18_01_2...</td>\n",
       "      <td>-0.022100</td>\n",
       "    </tr>\n",
       "  </tbody>\n",
       "</table>\n",
       "</div>"
      ],
      "text/plain": [
       "                                               img_path  steering\n",
       "1466  data/interim/center/img/center_2017_05_18_02_4...  0.198901\n",
       "4765  data/interim/center/img/center_2016_12_01_13_4... -0.211667\n",
       "1612  data/interim/center/img/center_2016_12_01_13_3... -0.287622\n",
       "2219  data/interim/center/img/center_2016_12_01_13_3...  0.000000\n",
       "881   data/interim/center/img/center_2017_05_18_01_2... -0.022100"
      ]
     },
     "execution_count": 12,
     "metadata": {},
     "output_type": "execute_result"
    }
   ],
   "source": [
    "df_center.sample(5)"
   ]
  },
  {
   "cell_type": "code",
   "execution_count": 13,
   "metadata": {
    "collapsed": false,
    "scrolled": true
   },
   "outputs": [
    {
     "data": {
      "text/html": [
       "<div>\n",
       "<table border=\"1\" class=\"dataframe\">\n",
       "  <thead>\n",
       "    <tr style=\"text-align: right;\">\n",
       "      <th></th>\n",
       "      <th>img_path</th>\n",
       "      <th>steering</th>\n",
       "    </tr>\n",
       "  </thead>\n",
       "  <tbody>\n",
       "    <tr>\n",
       "      <th>1054</th>\n",
       "      <td>data/interim/left/img/left_2017_05_18_01_37_45...</td>\n",
       "      <td>-0.004420</td>\n",
       "    </tr>\n",
       "    <tr>\n",
       "      <th>3463</th>\n",
       "      <td>data/interim/left/img/left_2016_12_01_13_38_29...</td>\n",
       "      <td>0.000000</td>\n",
       "    </tr>\n",
       "    <tr>\n",
       "      <th>2361</th>\n",
       "      <td>data/interim/left/img/left_2017_05_18_01_39_54...</td>\n",
       "      <td>0.017680</td>\n",
       "    </tr>\n",
       "    <tr>\n",
       "      <th>4799</th>\n",
       "      <td>data/interim/left/img/left_2016_12_01_13_41_13...</td>\n",
       "      <td>-0.135712</td>\n",
       "    </tr>\n",
       "    <tr>\n",
       "      <th>939</th>\n",
       "      <td>data/interim/left/img/left_2017_05_18_02_49_07...</td>\n",
       "      <td>-0.207741</td>\n",
       "    </tr>\n",
       "  </tbody>\n",
       "</table>\n",
       "</div>"
      ],
      "text/plain": [
       "                                               img_path  steering\n",
       "1054  data/interim/left/img/left_2017_05_18_01_37_45... -0.004420\n",
       "3463  data/interim/left/img/left_2016_12_01_13_38_29...  0.000000\n",
       "2361  data/interim/left/img/left_2017_05_18_01_39_54...  0.017680\n",
       "4799  data/interim/left/img/left_2016_12_01_13_41_13... -0.135712\n",
       "939   data/interim/left/img/left_2017_05_18_02_49_07... -0.207741"
      ]
     },
     "execution_count": 13,
     "metadata": {},
     "output_type": "execute_result"
    }
   ],
   "source": [
    "df_left.sample(5)"
   ]
  },
  {
   "cell_type": "code",
   "execution_count": 14,
   "metadata": {
    "collapsed": false
   },
   "outputs": [
    {
     "data": {
      "text/html": [
       "<div>\n",
       "<table border=\"1\" class=\"dataframe\">\n",
       "  <thead>\n",
       "    <tr style=\"text-align: right;\">\n",
       "      <th></th>\n",
       "      <th>img_path</th>\n",
       "      <th>steering</th>\n",
       "    </tr>\n",
       "  </thead>\n",
       "  <tbody>\n",
       "    <tr>\n",
       "      <th>7808</th>\n",
       "      <td>data/interim/right/img/right_2016_12_01_13_46_...</td>\n",
       "      <td>-0.088240</td>\n",
       "    </tr>\n",
       "    <tr>\n",
       "      <th>6076</th>\n",
       "      <td>data/interim/right/img/right_2016_12_01_13_43_...</td>\n",
       "      <td>0.463638</td>\n",
       "    </tr>\n",
       "    <tr>\n",
       "      <th>978</th>\n",
       "      <td>data/interim/right/img/right_2016_12_01_13_34_...</td>\n",
       "      <td>0.000000</td>\n",
       "    </tr>\n",
       "    <tr>\n",
       "      <th>1191</th>\n",
       "      <td>data/interim/right/img/right_2016_12_01_13_34_...</td>\n",
       "      <td>-0.278127</td>\n",
       "    </tr>\n",
       "    <tr>\n",
       "      <th>749</th>\n",
       "      <td>data/interim/right/img/right_2016_12_01_13_33_...</td>\n",
       "      <td>-0.221161</td>\n",
       "    </tr>\n",
       "  </tbody>\n",
       "</table>\n",
       "</div>"
      ],
      "text/plain": [
       "                                               img_path  steering\n",
       "7808  data/interim/right/img/right_2016_12_01_13_46_... -0.088240\n",
       "6076  data/interim/right/img/right_2016_12_01_13_43_...  0.463638\n",
       "978   data/interim/right/img/right_2016_12_01_13_34_...  0.000000\n",
       "1191  data/interim/right/img/right_2016_12_01_13_34_... -0.278127\n",
       "749   data/interim/right/img/right_2016_12_01_13_33_... -0.221161"
      ]
     },
     "execution_count": 14,
     "metadata": {},
     "output_type": "execute_result"
    }
   ],
   "source": [
    "df_right.sample(5)"
   ]
  },
  {
   "cell_type": "code",
   "execution_count": 15,
   "metadata": {
    "collapsed": false
   },
   "outputs": [],
   "source": [
    "df_center.to_csv('/src/repos/udacity_carnd/project_3/data/interim/center/driving_log.csv',\n",
    "                 index=False)"
   ]
  },
  {
   "cell_type": "code",
   "execution_count": 16,
   "metadata": {
    "collapsed": true
   },
   "outputs": [],
   "source": [
    "df_left.to_csv('/src/repos/udacity_carnd/project_3/data/interim/left/driving_log.csv',\n",
    "               index=False)"
   ]
  },
  {
   "cell_type": "code",
   "execution_count": 17,
   "metadata": {
    "collapsed": true
   },
   "outputs": [],
   "source": [
    "df_right.to_csv('/src/repos/udacity_carnd/project_3/data/interim/right/driving_log.csv',\n",
    "                index=False)"
   ]
  },
  {
   "cell_type": "code",
   "execution_count": 18,
   "metadata": {
    "collapsed": false
   },
   "outputs": [],
   "source": [
    "for src, dst in zip(df['center'], df_center['img_path']):\n",
    "    source_path = src.replace('/home/adrian', '/src')\n",
    "    save_path = '/src/repos/udacity_carnd/project_3/' + dst\n",
    "    \n",
    "    img = cv2.imread(source_path, cv2.COLOR_BGR2RGB)\n",
    "    img = img[60:140, :, :]\n",
    "\n",
    "    save_zipped_pickle(img, save_path)\n",
    "    "
   ]
  },
  {
   "cell_type": "code",
   "execution_count": 19,
   "metadata": {
    "collapsed": true
   },
   "outputs": [],
   "source": [
    "path_to_image_to_check = '/src/repos/udacity_carnd/project_3/data/interim/center/img/center_2016_12_01_13_30_48_287.jpg'"
   ]
  },
  {
   "cell_type": "code",
   "execution_count": 22,
   "metadata": {
    "collapsed": false
   },
   "outputs": [],
   "source": [
    "image_to_check = load_zipped_pickle(path_to_image_to_check)"
   ]
  },
  {
   "cell_type": "code",
   "execution_count": 27,
   "metadata": {
    "collapsed": false
   },
   "outputs": [
    {
     "data": {
      "text/plain": [
       "<matplotlib.image.AxesImage at 0x7f305dfacfd0>"
      ]
     },
     "execution_count": 27,
     "metadata": {},
     "output_type": "execute_result"
    },
    {
     "data": {
      "image/png": "[encoded data removed]",
      "text/plain": [
       "<matplotlib.figure.Figure at 0x7f305e040dd8>"
      ]
     },
     "metadata": {},
     "output_type": "display_data"
    }
   ],
   "source": [
    "plt.imshow(image_to_check)"
   ]
  }
 ],
 "metadata": {
  "kernelspec": {
   "display_name": "Python 3",
   "language": "python",
   "name": "python3"
  },
  "language_info": {
   "codemirror_mode": {
    "name": "ipython",
    "version": 3
   },
   "file_extension": ".py",
   "mimetype": "text/x-python",
   "name": "python",
   "nbconvert_exporter": "python",
   "pygments_lexer": "ipython3",
   "version": "3.5.2"
  },
  "widgets": {
   "state": {},
   "version": "1.1.2"
  }
 },
 "nbformat": 4,
 "nbformat_minor": 2
}
