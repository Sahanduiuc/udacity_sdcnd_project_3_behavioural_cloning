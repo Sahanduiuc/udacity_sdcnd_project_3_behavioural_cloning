{
 "cells": [
  {
   "cell_type": "markdown",
   "metadata": {},
   "source": [
    "# Setup"
   ]
  },
  {
   "cell_type": "code",
   "execution_count": 1,
   "metadata": {
    "ExecuteTime": {
     "end_time": "2017-05-23T16:42:54.318804Z",
     "start_time": "2017-05-23T16:42:51.680153Z"
    },
    "collapsed": true
   },
   "outputs": [],
   "source": [
    "%matplotlib inline"
   ]
  },
  {
   "cell_type": "code",
   "execution_count": 2,
   "metadata": {
    "ExecuteTime": {
     "end_time": "2017-05-23T16:43:09.500676Z",
     "start_time": "2017-05-23T16:42:54.321240Z"
    },
    "collapsed": true
   },
   "outputs": [],
   "source": [
    "import cv2\n",
    "import matplotlib.pyplot as plt\n",
    "import pandas as pd\n",
    "import shutil\n",
    "\n",
    "from os.path import expanduser, join\n",
    "from tqdm import tqdm_notebook\n",
    "\n",
    "home_path = expanduser(\"~\")\n",
    "save_folder = '../data/interim'\n",
    "random_state = 10"
   ]
  },
  {
   "cell_type": "code",
   "execution_count": 3,
   "metadata": {
    "ExecuteTime": {
     "end_time": "2017-05-23T16:43:11.516004Z",
     "start_time": "2017-05-23T16:43:09.505011Z"
    },
    "collapsed": true
   },
   "outputs": [],
   "source": [
    "!rm -rf ~/repos/udacity_carnd/project_3/data/interim/img"
   ]
  },
  {
   "cell_type": "code",
   "execution_count": 4,
   "metadata": {
    "ExecuteTime": {
     "end_time": "2017-05-23T16:43:12.000840Z",
     "start_time": "2017-05-23T16:43:11.518458Z"
    },
    "collapsed": true
   },
   "outputs": [],
   "source": [
    "!mkdir -p ~/repos/udacity_carnd/project_3/data/interim/img/center\n",
    "!mkdir -p ~/repos/udacity_carnd/project_3/data/interim/img/left\n",
    "!mkdir -p ~/repos/udacity_carnd/project_3/data/interim/img/right"
   ]
  },
  {
   "cell_type": "markdown",
   "metadata": {},
   "source": [
    "# Helpers"
   ]
  },
  {
   "cell_type": "code",
   "execution_count": 5,
   "metadata": {
    "ExecuteTime": {
     "end_time": "2017-05-23T16:43:12.018063Z",
     "start_time": "2017-05-23T16:43:12.003894Z"
    },
    "collapsed": true
   },
   "outputs": [],
   "source": [
    "def transform_image_path(df):\n",
    "    prefix = 'data/interim/img'\n",
    "    \n",
    "    df['center'] = prefix + '/center/' + df['center'].str.split('/').str[-1]\n",
    "    df['left'] = prefix + '/left/' + df['left'].str.split('/').str[-1]\n",
    "    df['right'] = prefix + '/right/' + df['right'].str.split('/').str[-1]\n",
    "    \n",
    "    return df"
   ]
  },
  {
   "cell_type": "code",
   "execution_count": 7,
   "metadata": {
    "ExecuteTime": {
     "end_time": "2017-05-23T16:43:12.929105Z",
     "start_time": "2017-05-23T16:43:12.020703Z"
    }
   },
   "outputs": [],
   "source": [
    "# logs[header, location]\n",
    "# logs = [(0, '../data/raw/sample/driving_log.csv'),\n",
    "#         (None, '../data/raw/sim_track_1_direction_default/driving_log.csv'),\n",
    "#         (None, '../data/raw/sim_track_1_direction_reverse/driving_log.csv'),\n",
    "#         (None, '../data/raw/sim_track_2_direction_default/driving_log.csv'),\n",
    "#         (None, '../data/raw/sim_track_2_direction_reverse/driving_log.csv')]\n",
    "logs = [(0, '../data/raw/sample/driving_log.csv'),]\n",
    "#         (None, '../data/raw/sim_track_1_direction_reverse/driving_log.csv'),]\n",
    "#         (None, '../data/raw/sim_track_1_direction_default/driving_log.csv'),\n",
    "         \n",
    "\n",
    "# combine log data into a single dataframe\n",
    "columns = ['center', 'left', 'right', 'steering', 'throttle', 'brake', 'speed']\n",
    "df = pd.DataFrame(columns=columns)\n",
    "for header, log_path in logs:\n",
    "    df_temp = pd.read_csv(log_path, header=header, names=columns)\n",
    "    \n",
    "    # sample data\n",
    "    # it has different path strings from simulation data\n",
    "    if header == 0:\n",
    "        sample_path = join(home_path, 'repos/udacity_carnd/project_3/data/raw/sample')\n",
    "        df_temp['center'] = sample_path + '/' + df_temp['center'].str.strip()\n",
    "        df_temp['left'] = sample_path + '/' + df_temp['left'].str.strip()\n",
    "        df_temp['right'] = sample_path + '/' + df_temp['right'].str.strip()\n",
    "    \n",
    "    df = df.append(df_temp)"
   ]
  },
  {
   "cell_type": "code",
   "execution_count": 8,
   "metadata": {
    "ExecuteTime": {
     "end_time": "2017-05-23T16:43:13.206475Z",
     "start_time": "2017-05-23T16:43:12.932764Z"
    }
   },
   "outputs": [
    {
     "data": {
      "text/html": [
       "<div>\n",
       "<style>\n",
       "    .dataframe thead tr:only-child th {\n",
       "        text-align: right;\n",
       "    }\n",
       "\n",
       "    .dataframe thead th {\n",
       "        text-align: left;\n",
       "    }\n",
       "\n",
       "    .dataframe tbody tr th {\n",
       "        vertical-align: top;\n",
       "    }\n",
       "</style>\n",
       "<table border=\"1\" class=\"dataframe\">\n",
       "  <thead>\n",
       "    <tr style=\"text-align: right;\">\n",
       "      <th></th>\n",
       "      <th>center</th>\n",
       "      <th>left</th>\n",
       "      <th>right</th>\n",
       "      <th>steering</th>\n",
       "      <th>throttle</th>\n",
       "      <th>brake</th>\n",
       "      <th>speed</th>\n",
       "    </tr>\n",
       "  </thead>\n",
       "  <tbody>\n",
       "    <tr>\n",
       "      <th>5766</th>\n",
       "      <td>/home/carnd/repos/udacity_carnd/project_3/data...</td>\n",
       "      <td>/home/carnd/repos/udacity_carnd/project_3/data...</td>\n",
       "      <td>/home/carnd/repos/udacity_carnd/project_3/data...</td>\n",
       "      <td>0.000000</td>\n",
       "      <td>0.985533</td>\n",
       "      <td>0.0</td>\n",
       "      <td>30.186570</td>\n",
       "    </tr>\n",
       "    <tr>\n",
       "      <th>6182</th>\n",
       "      <td>/home/carnd/repos/udacity_carnd/project_3/data...</td>\n",
       "      <td>/home/carnd/repos/udacity_carnd/project_3/data...</td>\n",
       "      <td>/home/carnd/repos/udacity_carnd/project_3/data...</td>\n",
       "      <td>-0.316105</td>\n",
       "      <td>0.985533</td>\n",
       "      <td>0.0</td>\n",
       "      <td>30.183410</td>\n",
       "    </tr>\n",
       "    <tr>\n",
       "      <th>4060</th>\n",
       "      <td>/home/carnd/repos/udacity_carnd/project_3/data...</td>\n",
       "      <td>/home/carnd/repos/udacity_carnd/project_3/data...</td>\n",
       "      <td>/home/carnd/repos/udacity_carnd/project_3/data...</td>\n",
       "      <td>0.000000</td>\n",
       "      <td>0.476379</td>\n",
       "      <td>0.0</td>\n",
       "      <td>23.853930</td>\n",
       "    </tr>\n",
       "    <tr>\n",
       "      <th>7608</th>\n",
       "      <td>/home/carnd/repos/udacity_carnd/project_3/data...</td>\n",
       "      <td>/home/carnd/repos/udacity_carnd/project_3/data...</td>\n",
       "      <td>/home/carnd/repos/udacity_carnd/project_3/data...</td>\n",
       "      <td>-0.211667</td>\n",
       "      <td>0.985533</td>\n",
       "      <td>0.0</td>\n",
       "      <td>30.185320</td>\n",
       "    </tr>\n",
       "    <tr>\n",
       "      <th>4489</th>\n",
       "      <td>/home/carnd/repos/udacity_carnd/project_3/data...</td>\n",
       "      <td>/home/carnd/repos/udacity_carnd/project_3/data...</td>\n",
       "      <td>/home/carnd/repos/udacity_carnd/project_3/data...</td>\n",
       "      <td>0.000000</td>\n",
       "      <td>0.000000</td>\n",
       "      <td>0.0</td>\n",
       "      <td>4.155685</td>\n",
       "    </tr>\n",
       "    <tr>\n",
       "      <th>66</th>\n",
       "      <td>/home/carnd/repos/udacity_carnd/project_3/data...</td>\n",
       "      <td>/home/carnd/repos/udacity_carnd/project_3/data...</td>\n",
       "      <td>/home/carnd/repos/udacity_carnd/project_3/data...</td>\n",
       "      <td>0.000000</td>\n",
       "      <td>0.985533</td>\n",
       "      <td>0.0</td>\n",
       "      <td>18.542930</td>\n",
       "    </tr>\n",
       "    <tr>\n",
       "      <th>4591</th>\n",
       "      <td>/home/carnd/repos/udacity_carnd/project_3/data...</td>\n",
       "      <td>/home/carnd/repos/udacity_carnd/project_3/data...</td>\n",
       "      <td>/home/carnd/repos/udacity_carnd/project_3/data...</td>\n",
       "      <td>0.281836</td>\n",
       "      <td>0.985533</td>\n",
       "      <td>0.0</td>\n",
       "      <td>30.181030</td>\n",
       "    </tr>\n",
       "    <tr>\n",
       "      <th>4485</th>\n",
       "      <td>/home/carnd/repos/udacity_carnd/project_3/data...</td>\n",
       "      <td>/home/carnd/repos/udacity_carnd/project_3/data...</td>\n",
       "      <td>/home/carnd/repos/udacity_carnd/project_3/data...</td>\n",
       "      <td>0.000000</td>\n",
       "      <td>0.000000</td>\n",
       "      <td>0.0</td>\n",
       "      <td>4.326865</td>\n",
       "    </tr>\n",
       "    <tr>\n",
       "      <th>6108</th>\n",
       "      <td>/home/carnd/repos/udacity_carnd/project_3/data...</td>\n",
       "      <td>/home/carnd/repos/udacity_carnd/project_3/data...</td>\n",
       "      <td>/home/carnd/repos/udacity_carnd/project_3/data...</td>\n",
       "      <td>0.000000</td>\n",
       "      <td>0.985533</td>\n",
       "      <td>0.0</td>\n",
       "      <td>30.186330</td>\n",
       "    </tr>\n",
       "    <tr>\n",
       "      <th>2193</th>\n",
       "      <td>/home/carnd/repos/udacity_carnd/project_3/data...</td>\n",
       "      <td>/home/carnd/repos/udacity_carnd/project_3/data...</td>\n",
       "      <td>/home/carnd/repos/udacity_carnd/project_3/data...</td>\n",
       "      <td>0.042623</td>\n",
       "      <td>0.985533</td>\n",
       "      <td>0.0</td>\n",
       "      <td>30.186590</td>\n",
       "    </tr>\n",
       "  </tbody>\n",
       "</table>\n",
       "</div>"
      ],
      "text/plain": [
       "                                                 center  \\\n",
       "5766  /home/carnd/repos/udacity_carnd/project_3/data...   \n",
       "6182  /home/carnd/repos/udacity_carnd/project_3/data...   \n",
       "4060  /home/carnd/repos/udacity_carnd/project_3/data...   \n",
       "7608  /home/carnd/repos/udacity_carnd/project_3/data...   \n",
       "4489  /home/carnd/repos/udacity_carnd/project_3/data...   \n",
       "66    /home/carnd/repos/udacity_carnd/project_3/data...   \n",
       "4591  /home/carnd/repos/udacity_carnd/project_3/data...   \n",
       "4485  /home/carnd/repos/udacity_carnd/project_3/data...   \n",
       "6108  /home/carnd/repos/udacity_carnd/project_3/data...   \n",
       "2193  /home/carnd/repos/udacity_carnd/project_3/data...   \n",
       "\n",
       "                                                   left  \\\n",
       "5766  /home/carnd/repos/udacity_carnd/project_3/data...   \n",
       "6182  /home/carnd/repos/udacity_carnd/project_3/data...   \n",
       "4060  /home/carnd/repos/udacity_carnd/project_3/data...   \n",
       "7608  /home/carnd/repos/udacity_carnd/project_3/data...   \n",
       "4489  /home/carnd/repos/udacity_carnd/project_3/data...   \n",
       "66    /home/carnd/repos/udacity_carnd/project_3/data...   \n",
       "4591  /home/carnd/repos/udacity_carnd/project_3/data...   \n",
       "4485  /home/carnd/repos/udacity_carnd/project_3/data...   \n",
       "6108  /home/carnd/repos/udacity_carnd/project_3/data...   \n",
       "2193  /home/carnd/repos/udacity_carnd/project_3/data...   \n",
       "\n",
       "                                                  right  steering  throttle  \\\n",
       "5766  /home/carnd/repos/udacity_carnd/project_3/data...  0.000000  0.985533   \n",
       "6182  /home/carnd/repos/udacity_carnd/project_3/data... -0.316105  0.985533   \n",
       "4060  /home/carnd/repos/udacity_carnd/project_3/data...  0.000000  0.476379   \n",
       "7608  /home/carnd/repos/udacity_carnd/project_3/data... -0.211667  0.985533   \n",
       "4489  /home/carnd/repos/udacity_carnd/project_3/data...  0.000000  0.000000   \n",
       "66    /home/carnd/repos/udacity_carnd/project_3/data...  0.000000  0.985533   \n",
       "4591  /home/carnd/repos/udacity_carnd/project_3/data...  0.281836  0.985533   \n",
       "4485  /home/carnd/repos/udacity_carnd/project_3/data...  0.000000  0.000000   \n",
       "6108  /home/carnd/repos/udacity_carnd/project_3/data...  0.000000  0.985533   \n",
       "2193  /home/carnd/repos/udacity_carnd/project_3/data...  0.042623  0.985533   \n",
       "\n",
       "      brake      speed  \n",
       "5766    0.0  30.186570  \n",
       "6182    0.0  30.183410  \n",
       "4060    0.0  23.853930  \n",
       "7608    0.0  30.185320  \n",
       "4489    0.0   4.155685  \n",
       "66      0.0  18.542930  \n",
       "4591    0.0  30.181030  \n",
       "4485    0.0   4.326865  \n",
       "6108    0.0  30.186330  \n",
       "2193    0.0  30.186590  "
      ]
     },
     "execution_count": 8,
     "metadata": {},
     "output_type": "execute_result"
    }
   ],
   "source": [
    "df.sample(10, random_state=random_state)"
   ]
  },
  {
   "cell_type": "code",
   "execution_count": 9,
   "metadata": {
    "ExecuteTime": {
     "end_time": "2017-05-23T16:43:13.608459Z",
     "start_time": "2017-05-23T16:43:13.208435Z"
    },
    "collapsed": true
   },
   "outputs": [],
   "source": [
    "df_new = transform_image_path(df.copy(deep=True))"
   ]
  },
  {
   "cell_type": "code",
   "execution_count": 10,
   "metadata": {
    "ExecuteTime": {
     "end_time": "2017-05-23T16:43:13.714192Z",
     "start_time": "2017-05-23T16:43:13.610515Z"
    }
   },
   "outputs": [
    {
     "data": {
      "text/html": [
       "<div>\n",
       "<style>\n",
       "    .dataframe thead tr:only-child th {\n",
       "        text-align: right;\n",
       "    }\n",
       "\n",
       "    .dataframe thead th {\n",
       "        text-align: left;\n",
       "    }\n",
       "\n",
       "    .dataframe tbody tr th {\n",
       "        vertical-align: top;\n",
       "    }\n",
       "</style>\n",
       "<table border=\"1\" class=\"dataframe\">\n",
       "  <thead>\n",
       "    <tr style=\"text-align: right;\">\n",
       "      <th></th>\n",
       "      <th>center</th>\n",
       "      <th>left</th>\n",
       "      <th>right</th>\n",
       "      <th>steering</th>\n",
       "      <th>throttle</th>\n",
       "      <th>brake</th>\n",
       "      <th>speed</th>\n",
       "    </tr>\n",
       "  </thead>\n",
       "  <tbody>\n",
       "    <tr>\n",
       "      <th>5766</th>\n",
       "      <td>/home/carnd/repos/udacity_carnd/project_3/data...</td>\n",
       "      <td>/home/carnd/repos/udacity_carnd/project_3/data...</td>\n",
       "      <td>/home/carnd/repos/udacity_carnd/project_3/data...</td>\n",
       "      <td>0.000000</td>\n",
       "      <td>0.985533</td>\n",
       "      <td>0.0</td>\n",
       "      <td>30.186570</td>\n",
       "    </tr>\n",
       "    <tr>\n",
       "      <th>6182</th>\n",
       "      <td>/home/carnd/repos/udacity_carnd/project_3/data...</td>\n",
       "      <td>/home/carnd/repos/udacity_carnd/project_3/data...</td>\n",
       "      <td>/home/carnd/repos/udacity_carnd/project_3/data...</td>\n",
       "      <td>-0.316105</td>\n",
       "      <td>0.985533</td>\n",
       "      <td>0.0</td>\n",
       "      <td>30.183410</td>\n",
       "    </tr>\n",
       "    <tr>\n",
       "      <th>4060</th>\n",
       "      <td>/home/carnd/repos/udacity_carnd/project_3/data...</td>\n",
       "      <td>/home/carnd/repos/udacity_carnd/project_3/data...</td>\n",
       "      <td>/home/carnd/repos/udacity_carnd/project_3/data...</td>\n",
       "      <td>0.000000</td>\n",
       "      <td>0.476379</td>\n",
       "      <td>0.0</td>\n",
       "      <td>23.853930</td>\n",
       "    </tr>\n",
       "    <tr>\n",
       "      <th>7608</th>\n",
       "      <td>/home/carnd/repos/udacity_carnd/project_3/data...</td>\n",
       "      <td>/home/carnd/repos/udacity_carnd/project_3/data...</td>\n",
       "      <td>/home/carnd/repos/udacity_carnd/project_3/data...</td>\n",
       "      <td>-0.211667</td>\n",
       "      <td>0.985533</td>\n",
       "      <td>0.0</td>\n",
       "      <td>30.185320</td>\n",
       "    </tr>\n",
       "    <tr>\n",
       "      <th>4489</th>\n",
       "      <td>/home/carnd/repos/udacity_carnd/project_3/data...</td>\n",
       "      <td>/home/carnd/repos/udacity_carnd/project_3/data...</td>\n",
       "      <td>/home/carnd/repos/udacity_carnd/project_3/data...</td>\n",
       "      <td>0.000000</td>\n",
       "      <td>0.000000</td>\n",
       "      <td>0.0</td>\n",
       "      <td>4.155685</td>\n",
       "    </tr>\n",
       "    <tr>\n",
       "      <th>66</th>\n",
       "      <td>/home/carnd/repos/udacity_carnd/project_3/data...</td>\n",
       "      <td>/home/carnd/repos/udacity_carnd/project_3/data...</td>\n",
       "      <td>/home/carnd/repos/udacity_carnd/project_3/data...</td>\n",
       "      <td>0.000000</td>\n",
       "      <td>0.985533</td>\n",
       "      <td>0.0</td>\n",
       "      <td>18.542930</td>\n",
       "    </tr>\n",
       "    <tr>\n",
       "      <th>4591</th>\n",
       "      <td>/home/carnd/repos/udacity_carnd/project_3/data...</td>\n",
       "      <td>/home/carnd/repos/udacity_carnd/project_3/data...</td>\n",
       "      <td>/home/carnd/repos/udacity_carnd/project_3/data...</td>\n",
       "      <td>0.281836</td>\n",
       "      <td>0.985533</td>\n",
       "      <td>0.0</td>\n",
       "      <td>30.181030</td>\n",
       "    </tr>\n",
       "    <tr>\n",
       "      <th>4485</th>\n",
       "      <td>/home/carnd/repos/udacity_carnd/project_3/data...</td>\n",
       "      <td>/home/carnd/repos/udacity_carnd/project_3/data...</td>\n",
       "      <td>/home/carnd/repos/udacity_carnd/project_3/data...</td>\n",
       "      <td>0.000000</td>\n",
       "      <td>0.000000</td>\n",
       "      <td>0.0</td>\n",
       "      <td>4.326865</td>\n",
       "    </tr>\n",
       "    <tr>\n",
       "      <th>6108</th>\n",
       "      <td>/home/carnd/repos/udacity_carnd/project_3/data...</td>\n",
       "      <td>/home/carnd/repos/udacity_carnd/project_3/data...</td>\n",
       "      <td>/home/carnd/repos/udacity_carnd/project_3/data...</td>\n",
       "      <td>0.000000</td>\n",
       "      <td>0.985533</td>\n",
       "      <td>0.0</td>\n",
       "      <td>30.186330</td>\n",
       "    </tr>\n",
       "    <tr>\n",
       "      <th>2193</th>\n",
       "      <td>/home/carnd/repos/udacity_carnd/project_3/data...</td>\n",
       "      <td>/home/carnd/repos/udacity_carnd/project_3/data...</td>\n",
       "      <td>/home/carnd/repos/udacity_carnd/project_3/data...</td>\n",
       "      <td>0.042623</td>\n",
       "      <td>0.985533</td>\n",
       "      <td>0.0</td>\n",
       "      <td>30.186590</td>\n",
       "    </tr>\n",
       "  </tbody>\n",
       "</table>\n",
       "</div>"
      ],
      "text/plain": [
       "                                                 center  \\\n",
       "5766  /home/carnd/repos/udacity_carnd/project_3/data...   \n",
       "6182  /home/carnd/repos/udacity_carnd/project_3/data...   \n",
       "4060  /home/carnd/repos/udacity_carnd/project_3/data...   \n",
       "7608  /home/carnd/repos/udacity_carnd/project_3/data...   \n",
       "4489  /home/carnd/repos/udacity_carnd/project_3/data...   \n",
       "66    /home/carnd/repos/udacity_carnd/project_3/data...   \n",
       "4591  /home/carnd/repos/udacity_carnd/project_3/data...   \n",
       "4485  /home/carnd/repos/udacity_carnd/project_3/data...   \n",
       "6108  /home/carnd/repos/udacity_carnd/project_3/data...   \n",
       "2193  /home/carnd/repos/udacity_carnd/project_3/data...   \n",
       "\n",
       "                                                   left  \\\n",
       "5766  /home/carnd/repos/udacity_carnd/project_3/data...   \n",
       "6182  /home/carnd/repos/udacity_carnd/project_3/data...   \n",
       "4060  /home/carnd/repos/udacity_carnd/project_3/data...   \n",
       "7608  /home/carnd/repos/udacity_carnd/project_3/data...   \n",
       "4489  /home/carnd/repos/udacity_carnd/project_3/data...   \n",
       "66    /home/carnd/repos/udacity_carnd/project_3/data...   \n",
       "4591  /home/carnd/repos/udacity_carnd/project_3/data...   \n",
       "4485  /home/carnd/repos/udacity_carnd/project_3/data...   \n",
       "6108  /home/carnd/repos/udacity_carnd/project_3/data...   \n",
       "2193  /home/carnd/repos/udacity_carnd/project_3/data...   \n",
       "\n",
       "                                                  right  steering  throttle  \\\n",
       "5766  /home/carnd/repos/udacity_carnd/project_3/data...  0.000000  0.985533   \n",
       "6182  /home/carnd/repos/udacity_carnd/project_3/data... -0.316105  0.985533   \n",
       "4060  /home/carnd/repos/udacity_carnd/project_3/data...  0.000000  0.476379   \n",
       "7608  /home/carnd/repos/udacity_carnd/project_3/data... -0.211667  0.985533   \n",
       "4489  /home/carnd/repos/udacity_carnd/project_3/data...  0.000000  0.000000   \n",
       "66    /home/carnd/repos/udacity_carnd/project_3/data...  0.000000  0.985533   \n",
       "4591  /home/carnd/repos/udacity_carnd/project_3/data...  0.281836  0.985533   \n",
       "4485  /home/carnd/repos/udacity_carnd/project_3/data...  0.000000  0.000000   \n",
       "6108  /home/carnd/repos/udacity_carnd/project_3/data...  0.000000  0.985533   \n",
       "2193  /home/carnd/repos/udacity_carnd/project_3/data...  0.042623  0.985533   \n",
       "\n",
       "      brake      speed  \n",
       "5766    0.0  30.186570  \n",
       "6182    0.0  30.183410  \n",
       "4060    0.0  23.853930  \n",
       "7608    0.0  30.185320  \n",
       "4489    0.0   4.155685  \n",
       "66      0.0  18.542930  \n",
       "4591    0.0  30.181030  \n",
       "4485    0.0   4.326865  \n",
       "6108    0.0  30.186330  \n",
       "2193    0.0  30.186590  "
      ]
     },
     "execution_count": 10,
     "metadata": {},
     "output_type": "execute_result"
    }
   ],
   "source": [
    "df.sample(10, random_state=random_state)"
   ]
  },
  {
   "cell_type": "code",
   "execution_count": 11,
   "metadata": {
    "ExecuteTime": {
     "end_time": "2017-05-23T16:43:13.901071Z",
     "start_time": "2017-05-23T16:43:13.715774Z"
    }
   },
   "outputs": [
    {
     "data": {
      "text/html": [
       "<div>\n",
       "<style>\n",
       "    .dataframe thead tr:only-child th {\n",
       "        text-align: right;\n",
       "    }\n",
       "\n",
       "    .dataframe thead th {\n",
       "        text-align: left;\n",
       "    }\n",
       "\n",
       "    .dataframe tbody tr th {\n",
       "        vertical-align: top;\n",
       "    }\n",
       "</style>\n",
       "<table border=\"1\" class=\"dataframe\">\n",
       "  <thead>\n",
       "    <tr style=\"text-align: right;\">\n",
       "      <th></th>\n",
       "      <th>center</th>\n",
       "      <th>left</th>\n",
       "      <th>right</th>\n",
       "      <th>steering</th>\n",
       "      <th>throttle</th>\n",
       "      <th>brake</th>\n",
       "      <th>speed</th>\n",
       "    </tr>\n",
       "  </thead>\n",
       "  <tbody>\n",
       "    <tr>\n",
       "      <th>5766</th>\n",
       "      <td>data/interim/img/center/center_2016_12_01_13_4...</td>\n",
       "      <td>data/interim/img/left/left_2016_12_01_13_42_51...</td>\n",
       "      <td>data/interim/img/right/right_2016_12_01_13_42_...</td>\n",
       "      <td>0.000000</td>\n",
       "      <td>0.985533</td>\n",
       "      <td>0.0</td>\n",
       "      <td>30.186570</td>\n",
       "    </tr>\n",
       "    <tr>\n",
       "      <th>6182</th>\n",
       "      <td>data/interim/img/center/center_2016_12_01_13_4...</td>\n",
       "      <td>data/interim/img/left/left_2016_12_01_13_43_33...</td>\n",
       "      <td>data/interim/img/right/right_2016_12_01_13_43_...</td>\n",
       "      <td>-0.316105</td>\n",
       "      <td>0.985533</td>\n",
       "      <td>0.0</td>\n",
       "      <td>30.183410</td>\n",
       "    </tr>\n",
       "    <tr>\n",
       "      <th>4060</th>\n",
       "      <td>data/interim/img/center/center_2016_12_01_13_3...</td>\n",
       "      <td>data/interim/img/left/left_2016_12_01_13_39_29...</td>\n",
       "      <td>data/interim/img/right/right_2016_12_01_13_39_...</td>\n",
       "      <td>0.000000</td>\n",
       "      <td>0.476379</td>\n",
       "      <td>0.0</td>\n",
       "      <td>23.853930</td>\n",
       "    </tr>\n",
       "    <tr>\n",
       "      <th>7608</th>\n",
       "      <td>data/interim/img/center/center_2016_12_01_13_4...</td>\n",
       "      <td>data/interim/img/left/left_2016_12_01_13_45_58...</td>\n",
       "      <td>data/interim/img/right/right_2016_12_01_13_45_...</td>\n",
       "      <td>-0.211667</td>\n",
       "      <td>0.985533</td>\n",
       "      <td>0.0</td>\n",
       "      <td>30.185320</td>\n",
       "    </tr>\n",
       "    <tr>\n",
       "      <th>4489</th>\n",
       "      <td>data/interim/img/center/center_2016_12_01_13_4...</td>\n",
       "      <td>data/interim/img/left/left_2016_12_01_13_40_13...</td>\n",
       "      <td>data/interim/img/right/right_2016_12_01_13_40_...</td>\n",
       "      <td>0.000000</td>\n",
       "      <td>0.000000</td>\n",
       "      <td>0.0</td>\n",
       "      <td>4.155685</td>\n",
       "    </tr>\n",
       "    <tr>\n",
       "      <th>66</th>\n",
       "      <td>data/interim/img/center/center_2016_12_01_13_3...</td>\n",
       "      <td>data/interim/img/left/left_2016_12_01_13_32_44...</td>\n",
       "      <td>data/interim/img/right/right_2016_12_01_13_32_...</td>\n",
       "      <td>0.000000</td>\n",
       "      <td>0.985533</td>\n",
       "      <td>0.0</td>\n",
       "      <td>18.542930</td>\n",
       "    </tr>\n",
       "    <tr>\n",
       "      <th>4591</th>\n",
       "      <td>data/interim/img/center/center_2016_12_01_13_4...</td>\n",
       "      <td>data/interim/img/left/left_2016_12_01_13_40_52...</td>\n",
       "      <td>data/interim/img/right/right_2016_12_01_13_40_...</td>\n",
       "      <td>0.281836</td>\n",
       "      <td>0.985533</td>\n",
       "      <td>0.0</td>\n",
       "      <td>30.181030</td>\n",
       "    </tr>\n",
       "    <tr>\n",
       "      <th>4485</th>\n",
       "      <td>data/interim/img/center/center_2016_12_01_13_4...</td>\n",
       "      <td>data/interim/img/left/left_2016_12_01_13_40_12...</td>\n",
       "      <td>data/interim/img/right/right_2016_12_01_13_40_...</td>\n",
       "      <td>0.000000</td>\n",
       "      <td>0.000000</td>\n",
       "      <td>0.0</td>\n",
       "      <td>4.326865</td>\n",
       "    </tr>\n",
       "    <tr>\n",
       "      <th>6108</th>\n",
       "      <td>data/interim/img/center/center_2016_12_01_13_4...</td>\n",
       "      <td>data/interim/img/left/left_2016_12_01_13_43_26...</td>\n",
       "      <td>data/interim/img/right/right_2016_12_01_13_43_...</td>\n",
       "      <td>0.000000</td>\n",
       "      <td>0.985533</td>\n",
       "      <td>0.0</td>\n",
       "      <td>30.186330</td>\n",
       "    </tr>\n",
       "    <tr>\n",
       "      <th>2193</th>\n",
       "      <td>data/interim/img/center/center_2016_12_01_13_3...</td>\n",
       "      <td>data/interim/img/left/left_2016_12_01_13_36_20...</td>\n",
       "      <td>data/interim/img/right/right_2016_12_01_13_36_...</td>\n",
       "      <td>0.042623</td>\n",
       "      <td>0.985533</td>\n",
       "      <td>0.0</td>\n",
       "      <td>30.186590</td>\n",
       "    </tr>\n",
       "  </tbody>\n",
       "</table>\n",
       "</div>"
      ],
      "text/plain": [
       "                                                 center  \\\n",
       "5766  data/interim/img/center/center_2016_12_01_13_4...   \n",
       "6182  data/interim/img/center/center_2016_12_01_13_4...   \n",
       "4060  data/interim/img/center/center_2016_12_01_13_3...   \n",
       "7608  data/interim/img/center/center_2016_12_01_13_4...   \n",
       "4489  data/interim/img/center/center_2016_12_01_13_4...   \n",
       "66    data/interim/img/center/center_2016_12_01_13_3...   \n",
       "4591  data/interim/img/center/center_2016_12_01_13_4...   \n",
       "4485  data/interim/img/center/center_2016_12_01_13_4...   \n",
       "6108  data/interim/img/center/center_2016_12_01_13_4...   \n",
       "2193  data/interim/img/center/center_2016_12_01_13_3...   \n",
       "\n",
       "                                                   left  \\\n",
       "5766  data/interim/img/left/left_2016_12_01_13_42_51...   \n",
       "6182  data/interim/img/left/left_2016_12_01_13_43_33...   \n",
       "4060  data/interim/img/left/left_2016_12_01_13_39_29...   \n",
       "7608  data/interim/img/left/left_2016_12_01_13_45_58...   \n",
       "4489  data/interim/img/left/left_2016_12_01_13_40_13...   \n",
       "66    data/interim/img/left/left_2016_12_01_13_32_44...   \n",
       "4591  data/interim/img/left/left_2016_12_01_13_40_52...   \n",
       "4485  data/interim/img/left/left_2016_12_01_13_40_12...   \n",
       "6108  data/interim/img/left/left_2016_12_01_13_43_26...   \n",
       "2193  data/interim/img/left/left_2016_12_01_13_36_20...   \n",
       "\n",
       "                                                  right  steering  throttle  \\\n",
       "5766  data/interim/img/right/right_2016_12_01_13_42_...  0.000000  0.985533   \n",
       "6182  data/interim/img/right/right_2016_12_01_13_43_... -0.316105  0.985533   \n",
       "4060  data/interim/img/right/right_2016_12_01_13_39_...  0.000000  0.476379   \n",
       "7608  data/interim/img/right/right_2016_12_01_13_45_... -0.211667  0.985533   \n",
       "4489  data/interim/img/right/right_2016_12_01_13_40_...  0.000000  0.000000   \n",
       "66    data/interim/img/right/right_2016_12_01_13_32_...  0.000000  0.985533   \n",
       "4591  data/interim/img/right/right_2016_12_01_13_40_...  0.281836  0.985533   \n",
       "4485  data/interim/img/right/right_2016_12_01_13_40_...  0.000000  0.000000   \n",
       "6108  data/interim/img/right/right_2016_12_01_13_43_...  0.000000  0.985533   \n",
       "2193  data/interim/img/right/right_2016_12_01_13_36_...  0.042623  0.985533   \n",
       "\n",
       "      brake      speed  \n",
       "5766    0.0  30.186570  \n",
       "6182    0.0  30.183410  \n",
       "4060    0.0  23.853930  \n",
       "7608    0.0  30.185320  \n",
       "4489    0.0   4.155685  \n",
       "66      0.0  18.542930  \n",
       "4591    0.0  30.181030  \n",
       "4485    0.0   4.326865  \n",
       "6108    0.0  30.186330  \n",
       "2193    0.0  30.186590  "
      ]
     },
     "execution_count": 11,
     "metadata": {},
     "output_type": "execute_result"
    }
   ],
   "source": [
    "df_new.sample(10, random_state=random_state)"
   ]
  },
  {
   "cell_type": "code",
   "execution_count": 12,
   "metadata": {
    "ExecuteTime": {
     "end_time": "2017-05-23T16:43:14.211076Z",
     "start_time": "2017-05-23T16:43:13.902937Z"
    }
   },
   "outputs": [
    {
     "name": "stdout",
     "output_type": "stream",
     "text": [
      "[ '/home/carnd/repos/udacity_carnd/project_3/data/raw/sample/IMG/center_2016_12_01_13_30_48_287.jpg']\n"
     ]
    }
   ],
   "source": [
    "s = df[0:1]['center'].values\n",
    "print(s)"
   ]
  },
  {
   "cell_type": "markdown",
   "metadata": {},
   "source": [
    "# File copy"
   ]
  },
  {
   "cell_type": "code",
   "execution_count": 13,
   "metadata": {
    "ExecuteTime": {
     "end_time": "2017-05-23T16:43:14.834400Z",
     "start_time": "2017-05-23T16:43:14.215654Z"
    },
    "collapsed": true
   },
   "outputs": [],
   "source": [
    "df_new.to_csv(\n",
    "    join(home_path,\n",
    "         'repos/udacity_carnd/project_3/data/interim/img/driving_log.csv'),\n",
    "    index=False)"
   ]
  },
  {
   "cell_type": "code",
   "execution_count": 14,
   "metadata": {
    "ExecuteTime": {
     "end_time": "2017-05-23T16:44:00.799037Z",
     "start_time": "2017-05-23T16:43:14.836147Z"
    }
   },
   "outputs": [
    {
     "name": "stdout",
     "output_type": "stream",
     "text": [
      "\r"
     ]
    },
    {
     "name": "stderr",
     "output_type": "stream",
     "text": [
      "Widget Javascript not detected.  It may not be installed properly. Did you enable the widgetsnbextension? If not, then run \"jupyter nbextension enable --py --sys-prefix widgetsnbextension\"\n"
     ]
    },
    {
     "ename": "FileNotFoundError",
     "evalue": "[Errno 2] No such file or directory: '/home/carnd/repos/udacity_carnd/project_3/data/raw/sample/IMG/center_2016_12_01_13_30_48_287.jpg'",
     "output_type": "error",
     "traceback": [
      "\u001b[0;31m---------------------------------------------------------------------------\u001b[0m",
      "\u001b[0;31mFileNotFoundError\u001b[0m                         Traceback (most recent call last)",
      "\u001b[0;32m<ipython-input-14-d27971205ed9>\u001b[0m in \u001b[0;36m<module>\u001b[0;34m()\u001b[0m\n\u001b[1;32m      7\u001b[0m     \u001b[0;32mfor\u001b[0m \u001b[0msource_path\u001b[0m\u001b[0;34m,\u001b[0m \u001b[0msave_path\u001b[0m \u001b[0;32min\u001b[0m \u001b[0mzip\u001b[0m\u001b[0;34m(\u001b[0m\u001b[0msource_paths\u001b[0m\u001b[0;34m,\u001b[0m \u001b[0msave_paths\u001b[0m\u001b[0;34m)\u001b[0m\u001b[0;34m:\u001b[0m\u001b[0;34m\u001b[0m\u001b[0m\n\u001b[1;32m      8\u001b[0m         \u001b[0msave_path\u001b[0m \u001b[0;34m=\u001b[0m \u001b[0mjoin\u001b[0m\u001b[0;34m(\u001b[0m\u001b[0mhome_path\u001b[0m\u001b[0;34m,\u001b[0m \u001b[0;34m'repos/udacity_carnd/project_3'\u001b[0m\u001b[0;34m,\u001b[0m \u001b[0msave_path\u001b[0m\u001b[0;34m)\u001b[0m\u001b[0;34m\u001b[0m\u001b[0m\n\u001b[0;32m----> 9\u001b[0;31m         \u001b[0mshutil\u001b[0m\u001b[0;34m.\u001b[0m\u001b[0mcopyfile\u001b[0m\u001b[0;34m(\u001b[0m\u001b[0msource_path\u001b[0m\u001b[0;34m,\u001b[0m \u001b[0msave_path\u001b[0m\u001b[0;34m)\u001b[0m\u001b[0;34m\u001b[0m\u001b[0m\n\u001b[0m",
      "\u001b[0;32m/home/carnd/anaconda3/envs/carnd/lib/python3.5/shutil.py\u001b[0m in \u001b[0;36mcopyfile\u001b[0;34m(src, dst, follow_symlinks)\u001b[0m\n\u001b[1;32m    112\u001b[0m         \u001b[0mos\u001b[0m\u001b[0;34m.\u001b[0m\u001b[0msymlink\u001b[0m\u001b[0;34m(\u001b[0m\u001b[0mos\u001b[0m\u001b[0;34m.\u001b[0m\u001b[0mreadlink\u001b[0m\u001b[0;34m(\u001b[0m\u001b[0msrc\u001b[0m\u001b[0;34m)\u001b[0m\u001b[0;34m,\u001b[0m \u001b[0mdst\u001b[0m\u001b[0;34m)\u001b[0m\u001b[0;34m\u001b[0m\u001b[0m\n\u001b[1;32m    113\u001b[0m     \u001b[0;32melse\u001b[0m\u001b[0;34m:\u001b[0m\u001b[0;34m\u001b[0m\u001b[0m\n\u001b[0;32m--> 114\u001b[0;31m         \u001b[0;32mwith\u001b[0m \u001b[0mopen\u001b[0m\u001b[0;34m(\u001b[0m\u001b[0msrc\u001b[0m\u001b[0;34m,\u001b[0m \u001b[0;34m'rb'\u001b[0m\u001b[0;34m)\u001b[0m \u001b[0;32mas\u001b[0m \u001b[0mfsrc\u001b[0m\u001b[0;34m:\u001b[0m\u001b[0;34m\u001b[0m\u001b[0m\n\u001b[0m\u001b[1;32m    115\u001b[0m             \u001b[0;32mwith\u001b[0m \u001b[0mopen\u001b[0m\u001b[0;34m(\u001b[0m\u001b[0mdst\u001b[0m\u001b[0;34m,\u001b[0m \u001b[0;34m'wb'\u001b[0m\u001b[0;34m)\u001b[0m \u001b[0;32mas\u001b[0m \u001b[0mfdst\u001b[0m\u001b[0;34m:\u001b[0m\u001b[0;34m\u001b[0m\u001b[0m\n\u001b[1;32m    116\u001b[0m                 \u001b[0mcopyfileobj\u001b[0m\u001b[0;34m(\u001b[0m\u001b[0mfsrc\u001b[0m\u001b[0;34m,\u001b[0m \u001b[0mfdst\u001b[0m\u001b[0;34m)\u001b[0m\u001b[0;34m\u001b[0m\u001b[0m\n",
      "\u001b[0;31mFileNotFoundError\u001b[0m: [Errno 2] No such file or directory: '/home/carnd/repos/udacity_carnd/project_3/data/raw/sample/IMG/center_2016_12_01_13_30_48_287.jpg'"
     ]
    }
   ],
   "source": [
    "for source_paths, save_paths in tqdm_notebook(\n",
    "        zip(df[['center', 'left', 'right']].values,\n",
    "            df_new[['center', 'left', 'right']].values),\n",
    "        desc='rows',\n",
    "        leave=False):\n",
    "\n",
    "    for source_path, save_path in zip(source_paths, save_paths):\n",
    "        save_path = join(home_path, 'repos/udacity_carnd/project_3', save_path)\n",
    "        shutil.copyfile(source_path, save_path)"
   ]
  },
  {
   "cell_type": "code",
   "execution_count": null,
   "metadata": {
    "ExecuteTime": {
     "end_time": "2017-05-23T16:44:00.806014Z",
     "start_time": "2017-05-23T16:44:00.801277Z"
    },
    "collapsed": true
   },
   "outputs": [],
   "source": [
    "image_to_check_path = join(\n",
    "    home_path,\n",
    "    'repos/udacity_carnd/project_3/data/interim/img/center/center_2016_12_01_13_30_48_287.jpg'\n",
    ")\n",
    "print(image_to_check_path)"
   ]
  },
  {
   "cell_type": "code",
   "execution_count": null,
   "metadata": {
    "ExecuteTime": {
     "end_time": "2017-05-23T16:44:01.534763Z",
     "start_time": "2017-05-23T16:44:00.808311Z"
    },
    "collapsed": true
   },
   "outputs": [],
   "source": [
    "image_to_check = cv2.imread(image_to_check_path, cv2.COLOR_BGR2RGB)\n",
    "plt.imshow(image_to_check)\n",
    "print(image_to_check.shape)"
   ]
  },
  {
   "cell_type": "code",
   "execution_count": null,
   "metadata": {
    "ExecuteTime": {
     "end_time": "2017-05-23T16:44:01.903908Z",
     "start_time": "2017-05-23T16:44:01.537054Z"
    },
    "collapsed": true
   },
   "outputs": [],
   "source": [
    "image_to_check = cv2.imread(image_to_check_path, cv2.COLOR_BGR2YUV)\n",
    "plt.imshow(image_to_check)\n",
    "print(image_to_check.shape)"
   ]
  },
  {
   "cell_type": "code",
   "execution_count": null,
   "metadata": {
    "ExecuteTime": {
     "end_time": "2017-05-23T16:44:02.308637Z",
     "start_time": "2017-05-23T16:44:01.905796Z"
    },
    "collapsed": true
   },
   "outputs": [],
   "source": [
    "image_to_check = cv2.imread(image_to_check_path, cv2.COLOR_BGR2RGB)\n",
    "image_to_check = cv2.cvtColor(image_to_check, cv2.COLOR_RGB2HSV)\n",
    "plt.imshow(image_to_check)\n",
    "print(image_to_check.shape)"
   ]
  }
 ],
 "metadata": {
  "anaconda-cloud": {},
  "kernelspec": {
   "display_name": "Python [default]",
   "language": "python",
   "name": "python3"
  },
  "language_info": {
   "codemirror_mode": {
    "name": "ipython",
    "version": 3
   },
   "file_extension": ".py",
   "mimetype": "text/x-python",
   "name": "python",
   "nbconvert_exporter": "python",
   "pygments_lexer": "ipython3",
   "version": "3.5.2"
  },
  "toc": {
   "colors": {
    "hover_highlight": "#DAA520",
    "running_highlight": "#FF0000",
    "selected_highlight": "#FFD700"
   },
   "moveMenuLeft": true,
   "nav_menu": {
    "height": "12px",
    "width": "252px"
   },
   "navigate_menu": true,
   "number_sections": true,
   "sideBar": true,
   "threshold": 4,
   "toc_cell": false,
   "toc_section_display": "block",
   "toc_window_display": false,
   "widenNotebook": false
  },
  "widgets": {
   "state": {
    "0200da0b52ef46f498f4649b8e6c60cb": {
     "views": []
    },
    "402c3afa02bd481bbb3c5803042de419": {
     "views": [
      {
       "cell_index": 15
      }
     ]
    },
    "a2f0bbe53e614b78968b96a1996a3a24": {
     "views": []
    },
    "ae3996f7d2e34676baeb4c50840fd89f": {
     "views": []
    },
    "d19ce217c6b144358c02c0e09520a680": {
     "views": []
    },
    "ff5da0adf71a4b4295c12af3f4aeb601": {
     "views": []
    }
   },
   "version": "1.1.2"
  }
 },
 "nbformat": 4,
 "nbformat_minor": 2
}
